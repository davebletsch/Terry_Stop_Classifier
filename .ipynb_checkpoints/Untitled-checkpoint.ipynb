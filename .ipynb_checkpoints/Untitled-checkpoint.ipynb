{
 "cells": [
  {
   "cell_type": "markdown",
   "metadata": {},
   "source": [
    "# Mod_5_Project"
   ]
  },
  {
   "cell_type": "markdown",
   "metadata": {},
   "source": [
    "## Classify whether a traffic stop will end in an arrest or not"
   ]
  },
  {
   "cell_type": "markdown",
   "metadata": {},
   "source": [
    "Left off at p_race_map"
   ]
  },
  {
   "cell_type": "code",
   "execution_count": 1,
   "metadata": {},
   "outputs": [],
   "source": [
    "import pandas as pd\n"
   ]
  },
  {
   "cell_type": "code",
   "execution_count": 114,
   "metadata": {},
   "outputs": [],
   "source": [
    "# Display all expressions in a cell\n",
    "from IPython.core.interactiveshell import InteractiveShell\n",
    "InteractiveShell.ast_node_interactivity = \"all\""
   ]
  },
  {
   "cell_type": "code",
   "execution_count": 255,
   "metadata": {},
   "outputs": [],
   "source": [
    "df = pd.read_csv('terry-stops.csv')"
   ]
  },
  {
   "cell_type": "code",
   "execution_count": 94,
   "metadata": {},
   "outputs": [
    {
     "data": {
      "text/plain": [
       "(26042, 23)"
      ]
     },
     "execution_count": 94,
     "metadata": {},
     "output_type": "execute_result"
    }
   ],
   "source": [
    "df.shape"
   ]
  },
  {
   "cell_type": "code",
   "execution_count": 95,
   "metadata": {},
   "outputs": [
    {
     "name": "stdout",
     "output_type": "stream",
     "text": [
      "<class 'pandas.core.frame.DataFrame'>\n",
      "RangeIndex: 26042 entries, 0 to 26041\n",
      "Data columns (total 23 columns):\n",
      " #   Column                    Non-Null Count  Dtype  \n",
      "---  ------                    --------------  -----  \n",
      " 0   Subject Age Group         26042 non-null  object \n",
      " 1   Subject ID                25150 non-null  float64\n",
      " 2   GO / SC Num               26042 non-null  int64  \n",
      " 3   Terry Stop ID             26042 non-null  int64  \n",
      " 4   Stop Resolution           26042 non-null  object \n",
      " 5   Weapon Type               26042 non-null  object \n",
      " 6   Officer ID                26042 non-null  int64  \n",
      " 7   Officer YOB               26025 non-null  float64\n",
      " 8   Officer Gender            26042 non-null  object \n",
      " 9   Officer Race              26042 non-null  object \n",
      " 10  Subject Perceived Race    26042 non-null  object \n",
      " 11  Subject Perceived Gender  26042 non-null  object \n",
      " 12  Reported Date             26042 non-null  object \n",
      " 13  Reported Time             26042 non-null  object \n",
      " 14  Initial Call Type         16188 non-null  object \n",
      " 15  Final Call Type           16188 non-null  object \n",
      " 16  Call Type                 16188 non-null  object \n",
      " 17  Officer Squad             25635 non-null  object \n",
      " 18  Arrest Flag               26042 non-null  object \n",
      " 19  Frisk Flag                26042 non-null  object \n",
      " 20  Precinct                  16188 non-null  object \n",
      " 21  Sector                    16188 non-null  object \n",
      " 22  Beat                      16188 non-null  object \n",
      "dtypes: float64(2), int64(3), object(18)\n",
      "memory usage: 4.6+ MB\n"
     ]
    }
   ],
   "source": [
    "df.info()"
   ]
  },
  {
   "cell_type": "code",
   "execution_count": 9,
   "metadata": {},
   "outputs": [
    {
     "data": {
      "text/html": [
       "<div>\n",
       "<style scoped>\n",
       "    .dataframe tbody tr th:only-of-type {\n",
       "        vertical-align: middle;\n",
       "    }\n",
       "\n",
       "    .dataframe tbody tr th {\n",
       "        vertical-align: top;\n",
       "    }\n",
       "\n",
       "    .dataframe thead th {\n",
       "        text-align: right;\n",
       "    }\n",
       "</style>\n",
       "<table border=\"1\" class=\"dataframe\">\n",
       "  <thead>\n",
       "    <tr style=\"text-align: right;\">\n",
       "      <th></th>\n",
       "      <th>Subject Age Group</th>\n",
       "      <th>Subject ID</th>\n",
       "      <th>GO / SC Num</th>\n",
       "      <th>Terry Stop ID</th>\n",
       "      <th>Stop Resolution</th>\n",
       "      <th>Weapon Type</th>\n",
       "      <th>Officer ID</th>\n",
       "      <th>Officer YOB</th>\n",
       "      <th>Officer Gender</th>\n",
       "      <th>Officer Race</th>\n",
       "      <th>...</th>\n",
       "      <th>Reported Time</th>\n",
       "      <th>Initial Call Type</th>\n",
       "      <th>Final Call Type</th>\n",
       "      <th>Call Type</th>\n",
       "      <th>Officer Squad</th>\n",
       "      <th>Arrest Flag</th>\n",
       "      <th>Frisk Flag</th>\n",
       "      <th>Precinct</th>\n",
       "      <th>Sector</th>\n",
       "      <th>Beat</th>\n",
       "    </tr>\n",
       "  </thead>\n",
       "  <tbody>\n",
       "    <tr>\n",
       "      <th>0</th>\n",
       "      <td>36 - 45</td>\n",
       "      <td>NaN</td>\n",
       "      <td>20150000088359</td>\n",
       "      <td>10012</td>\n",
       "      <td>-</td>\n",
       "      <td>None</td>\n",
       "      <td>1735</td>\n",
       "      <td>1977.0</td>\n",
       "      <td>M</td>\n",
       "      <td>White</td>\n",
       "      <td>...</td>\n",
       "      <td>09:58:00.0000000</td>\n",
       "      <td>WARRANT - FELONY PICKUP</td>\n",
       "      <td>--WARRANT SERVICES - FELONY</td>\n",
       "      <td>ONVIEW</td>\n",
       "      <td>NaN</td>\n",
       "      <td>N</td>\n",
       "      <td>N</td>\n",
       "      <td>East</td>\n",
       "      <td>E</td>\n",
       "      <td>E2</td>\n",
       "    </tr>\n",
       "    <tr>\n",
       "      <th>1</th>\n",
       "      <td>26 - 35</td>\n",
       "      <td>NaN</td>\n",
       "      <td>20150000087858</td>\n",
       "      <td>10068</td>\n",
       "      <td>GO Report</td>\n",
       "      <td>None</td>\n",
       "      <td>1561</td>\n",
       "      <td>1984.0</td>\n",
       "      <td>M</td>\n",
       "      <td>White</td>\n",
       "      <td>...</td>\n",
       "      <td>19:08:00.0000000</td>\n",
       "      <td>THREATS (INCLS IN-PERSON/BY PHONE/IN WRITING)</td>\n",
       "      <td>--DISTURBANCE - OTHER</td>\n",
       "      <td>911</td>\n",
       "      <td>NaN</td>\n",
       "      <td>N</td>\n",
       "      <td>N</td>\n",
       "      <td>East</td>\n",
       "      <td>G</td>\n",
       "      <td>G3</td>\n",
       "    </tr>\n",
       "    <tr>\n",
       "      <th>2</th>\n",
       "      <td>18 - 25</td>\n",
       "      <td>NaN</td>\n",
       "      <td>20150000001461</td>\n",
       "      <td>10103</td>\n",
       "      <td>Street Check</td>\n",
       "      <td>None</td>\n",
       "      <td>1539</td>\n",
       "      <td>1973.0</td>\n",
       "      <td>M</td>\n",
       "      <td>White</td>\n",
       "      <td>...</td>\n",
       "      <td>01:32:00.0000000</td>\n",
       "      <td>NaN</td>\n",
       "      <td>NaN</td>\n",
       "      <td>NaN</td>\n",
       "      <td>NaN</td>\n",
       "      <td>N</td>\n",
       "      <td>N</td>\n",
       "      <td>NaN</td>\n",
       "      <td>NaN</td>\n",
       "      <td>NaN</td>\n",
       "    </tr>\n",
       "    <tr>\n",
       "      <th>3</th>\n",
       "      <td>18 - 25</td>\n",
       "      <td>NaN</td>\n",
       "      <td>20150000001461</td>\n",
       "      <td>10104</td>\n",
       "      <td>Street Check</td>\n",
       "      <td>None</td>\n",
       "      <td>1539</td>\n",
       "      <td>1973.0</td>\n",
       "      <td>M</td>\n",
       "      <td>White</td>\n",
       "      <td>...</td>\n",
       "      <td>01:35:00.0000000</td>\n",
       "      <td>NaN</td>\n",
       "      <td>NaN</td>\n",
       "      <td>NaN</td>\n",
       "      <td>NaN</td>\n",
       "      <td>N</td>\n",
       "      <td>N</td>\n",
       "      <td>NaN</td>\n",
       "      <td>NaN</td>\n",
       "      <td>NaN</td>\n",
       "    </tr>\n",
       "    <tr>\n",
       "      <th>4</th>\n",
       "      <td>26 - 35</td>\n",
       "      <td>NaN</td>\n",
       "      <td>20150000103696</td>\n",
       "      <td>10207</td>\n",
       "      <td>Street Check</td>\n",
       "      <td>None</td>\n",
       "      <td>1539</td>\n",
       "      <td>1973.0</td>\n",
       "      <td>M</td>\n",
       "      <td>White</td>\n",
       "      <td>...</td>\n",
       "      <td>21:08:00.0000000</td>\n",
       "      <td>PROPERTY - DAMAGE</td>\n",
       "      <td>--PROPERTY DEST (DAMG)</td>\n",
       "      <td>911</td>\n",
       "      <td>NaN</td>\n",
       "      <td>N</td>\n",
       "      <td>N</td>\n",
       "      <td>East</td>\n",
       "      <td>E</td>\n",
       "      <td>E2</td>\n",
       "    </tr>\n",
       "  </tbody>\n",
       "</table>\n",
       "<p>5 rows × 23 columns</p>\n",
       "</div>"
      ],
      "text/plain": [
       "  Subject Age Group  Subject ID     GO / SC Num  Terry Stop ID  \\\n",
       "0           36 - 45         NaN  20150000088359          10012   \n",
       "1           26 - 35         NaN  20150000087858          10068   \n",
       "2           18 - 25         NaN  20150000001461          10103   \n",
       "3           18 - 25         NaN  20150000001461          10104   \n",
       "4           26 - 35         NaN  20150000103696          10207   \n",
       "\n",
       "  Stop Resolution Weapon Type  Officer ID  Officer YOB Officer Gender  \\\n",
       "0               -        None        1735       1977.0              M   \n",
       "1       GO Report        None        1561       1984.0              M   \n",
       "2    Street Check        None        1539       1973.0              M   \n",
       "3    Street Check        None        1539       1973.0              M   \n",
       "4    Street Check        None        1539       1973.0              M   \n",
       "\n",
       "  Officer Race  ...     Reported Time  \\\n",
       "0        White  ...  09:58:00.0000000   \n",
       "1        White  ...  19:08:00.0000000   \n",
       "2        White  ...  01:32:00.0000000   \n",
       "3        White  ...  01:35:00.0000000   \n",
       "4        White  ...  21:08:00.0000000   \n",
       "\n",
       "                               Initial Call Type              Final Call Type  \\\n",
       "0                        WARRANT - FELONY PICKUP  --WARRANT SERVICES - FELONY   \n",
       "1  THREATS (INCLS IN-PERSON/BY PHONE/IN WRITING)        --DISTURBANCE - OTHER   \n",
       "2                                            NaN                          NaN   \n",
       "3                                            NaN                          NaN   \n",
       "4                              PROPERTY - DAMAGE       --PROPERTY DEST (DAMG)   \n",
       "\n",
       "  Call Type Officer Squad Arrest Flag Frisk Flag Precinct Sector Beat  \n",
       "0    ONVIEW           NaN           N          N     East      E   E2  \n",
       "1       911           NaN           N          N     East      G   G3  \n",
       "2       NaN           NaN           N          N      NaN    NaN  NaN  \n",
       "3       NaN           NaN           N          N      NaN    NaN  NaN  \n",
       "4       911           NaN           N          N     East      E   E2  \n",
       "\n",
       "[5 rows x 23 columns]"
      ]
     },
     "execution_count": 9,
     "metadata": {},
     "output_type": "execute_result"
    }
   ],
   "source": [
    "df.head()"
   ]
  },
  {
   "cell_type": "markdown",
   "metadata": {},
   "source": [
    "## Cleaning"
   ]
  },
  {
   "cell_type": "markdown",
   "metadata": {},
   "source": [
    "#### 1. Subject Age Group"
   ]
  },
  {
   "cell_type": "code",
   "execution_count": 65,
   "metadata": {},
   "outputs": [
    {
     "data": {
      "text/plain": [
       "26 - 35         8473\n",
       "18 - 25         5810\n",
       "36 - 45         5131\n",
       "46 - 55         3244\n",
       "1 - 17          1390\n",
       "56 and Above    1158\n",
       "-                836\n",
       "Name: Subject Age Group, dtype: int64"
      ]
     },
     "execution_count": 65,
     "metadata": {},
     "output_type": "execute_result"
    }
   ],
   "source": [
    "df['Subject Age Group'].value_counts()"
   ]
  },
  {
   "cell_type": "markdown",
   "metadata": {},
   "source": [
    "#### 2. Subject ID (repeat offenders)"
   ]
  },
  {
   "cell_type": "code",
   "execution_count": 86,
   "metadata": {},
   "outputs": [],
   "source": [
    "repeat_offenders = df['Subject ID'].value_counts() > 2\n",
    "medium_offenders = df['Subject ID'].value_counts() > 4\n",
    "career_offenders = df['Subject ID'].value_counts() > 6"
   ]
  },
  {
   "cell_type": "code",
   "execution_count": 83,
   "metadata": {
    "scrolled": true
   },
   "outputs": [
    {
     "data": {
      "text/plain": [
       "False    19576\n",
       "True       246\n",
       "Name: Subject ID, dtype: int64"
      ]
     },
     "execution_count": 83,
     "metadata": {},
     "output_type": "execute_result"
    }
   ],
   "source": [
    "bad_drivers.value_counts()\n"
   ]
  },
  {
   "cell_type": "markdown",
   "metadata": {},
   "source": [
    "#### 3. GO / SC Num (identifier for type of stop)"
   ]
  },
  {
   "cell_type": "code",
   "execution_count": 107,
   "metadata": {
    "scrolled": true
   },
   "outputs": [
    {
     "name": "stdout",
     "output_type": "stream",
     "text": [
      "20150000190790    16\n",
      "20160000378750    16\n",
      "20180000134604    14\n",
      "20170000132836    13\n",
      "20160000001326    12\n",
      "                  ..\n",
      "20170000298261     1\n",
      "20170000212255     1\n",
      "20170000000403     1\n",
      "20170000001286     1\n",
      "20170000294189     1\n",
      "Name: GO / SC Num, Length: 19620, dtype: int64\n"
     ]
    }
   ],
   "source": [
    "print(df['GO / SC Num'].value_counts())\n",
    "\n",
    "# With 19,620 unique codes, this column seems like it can be dropped\n",
    "df.drop('GO / SC Num', axis=1, inplace=True)"
   ]
  },
  {
   "cell_type": "markdown",
   "metadata": {},
   "source": [
    "#### 4. Terry Stop ID (unique identifier for each of stop)"
   ]
  },
  {
   "cell_type": "code",
   "execution_count": 110,
   "metadata": {},
   "outputs": [
    {
     "data": {
      "text/plain": [
       "12282    1\n",
       "38232    1\n",
       "21824    1\n",
       "23873    1\n",
       "17730    1\n",
       "        ..\n",
       "37607    1\n",
       "10992    1\n",
       "15090    1\n",
       "13043    1\n",
       "10245    1\n",
       "Name: Terry Stop ID, Length: 26042, dtype: int64"
      ]
     },
     "execution_count": 110,
     "metadata": {},
     "output_type": "execute_result"
    }
   ],
   "source": [
    "df['Terry Stop ID'].value_counts()"
   ]
  },
  {
   "cell_type": "markdown",
   "metadata": {},
   "source": [
    "#### 5. Stop Resolution (final outcome) - target variable"
   ]
  },
  {
   "cell_type": "code",
   "execution_count": 115,
   "metadata": {},
   "outputs": [
    {
     "data": {
      "text/plain": [
       "GO Report                         9750\n",
       "Street Check                      9586\n",
       "Arrest with GO or Supplemental    5807\n",
       "GO for Prosecutorial Referral      535\n",
       "-                                  256\n",
       "Citation / Infraction              108\n",
       "Name: Stop Resolution, dtype: int64"
      ]
     },
     "execution_count": 115,
     "metadata": {},
     "output_type": "execute_result"
    },
    {
     "data": {
      "text/plain": [
       "6"
      ]
     },
     "execution_count": 115,
     "metadata": {},
     "output_type": "execute_result"
    }
   ],
   "source": [
    "df['Stop Resolution'].value_counts()\n",
    "len(df['Stop Resolution'].unique())"
   ]
  },
  {
   "cell_type": "markdown",
   "metadata": {},
   "source": [
    "#### 6. Weapon Type"
   ]
  },
  {
   "cell_type": "code",
   "execution_count": 210,
   "metadata": {},
   "outputs": [
    {
     "data": {
      "text/plain": [
       "None                               24592\n",
       "Lethal Cutting Instrument           1095\n",
       "Handgun                              186\n",
       "Firearm Other                         69\n",
       "-                                     41\n",
       "Club, Blackjack, Brass Knuckles       34\n",
       "Firearm (unk type)                    12\n",
       "Club                                   7\n",
       "Shotgun                                2\n",
       "Rifle                                  2\n",
       "Brass Knuckles                         1\n",
       "Blackjack                              1\n",
       "Name: Weapon Type, dtype: int64"
      ]
     },
     "execution_count": 210,
     "metadata": {},
     "output_type": "execute_result"
    },
    {
     "data": {
      "text/plain": [
       "12"
      ]
     },
     "execution_count": 210,
     "metadata": {},
     "output_type": "execute_result"
    }
   ],
   "source": [
    "df['Weapon Type'].value_counts()\n",
    "len(df['Weapon Type'].unique())"
   ]
  },
  {
   "cell_type": "code",
   "execution_count": 211,
   "metadata": {},
   "outputs": [],
   "source": [
    "weapon_map = {\n",
    "    'None': 'None',\n",
    "    '-': 'Other',\n",
    "    'Lethal Cutting Instrument':'Lethal Cutting Instrument',\n",
    "    'Handgun': 'Firearm',\n",
    "    'Firearm Other': 'Firearm',\n",
    "    'Firearm (unk type)': 'Firearm',\n",
    "    'Shotgun': 'Firearm',\n",
    "    'Rifle': 'Firearm',\n",
    "    'Club': 'Club, Blackjack, Brass Knuckles',\n",
    "    'Blackjack': 'Club, Blackjack, Brass Knuckles',\n",
    "    'Brass Knuckles': 'Club, Blackjack, Brass Knuckles'\n",
    "}"
   ]
  },
  {
   "cell_type": "code",
   "execution_count": 212,
   "metadata": {},
   "outputs": [],
   "source": [
    "df['Weapon Type'] = df['Weapon Type'].map(weapon_map)"
   ]
  },
  {
   "cell_type": "code",
   "execution_count": 216,
   "metadata": {},
   "outputs": [
    {
     "data": {
      "text/plain": [
       "None                               24592\n",
       "Lethal Cutting Instrument           1095\n",
       "Firearm                              271\n",
       "Other                                 41\n",
       "Club, Blackjack, Brass Knuckles        9\n",
       "Name: Weapon Type, dtype: int64"
      ]
     },
     "execution_count": 216,
     "metadata": {},
     "output_type": "execute_result"
    },
    {
     "data": {
      "text/plain": [
       "34"
      ]
     },
     "execution_count": 216,
     "metadata": {},
     "output_type": "execute_result"
    },
    {
     "data": {
      "text/plain": [
       "array(['None', 'Lethal Cutting Instrument', 'Firearm', nan, 'Other',\n",
       "       'Club, Blackjack, Brass Knuckles'], dtype=object)"
      ]
     },
     "execution_count": 216,
     "metadata": {},
     "output_type": "execute_result"
    }
   ],
   "source": [
    "df['Weapon Type'].value_counts()\n",
    "\n",
    "# 34 total \"NaN\" values\n",
    "df['Weapon Type'].isna().sum()\n",
    "df['Weapon Type'].unique()"
   ]
  },
  {
   "cell_type": "markdown",
   "metadata": {},
   "source": [
    "#### 7. Officer ID (unique identifier)"
   ]
  },
  {
   "cell_type": "code",
   "execution_count": 226,
   "metadata": {},
   "outputs": [
    {
     "data": {
      "text/plain": [
       "1866    280\n",
       "1735    252\n",
       "1857    224\n",
       "1585    205\n",
       "1865    190\n",
       "       ... \n",
       "563       1\n",
       "851       1\n",
       "915       1\n",
       "1107      1\n",
       "7         1\n",
       "Name: Officer ID, Length: 986, dtype: int64"
      ]
     },
     "execution_count": 226,
     "metadata": {},
     "output_type": "execute_result"
    },
    {
     "data": {
      "text/plain": [
       "986"
      ]
     },
     "execution_count": 226,
     "metadata": {},
     "output_type": "execute_result"
    }
   ],
   "source": [
    "df['Officer ID'].value_counts()\n",
    "\n",
    "# 986 reporting officers\n",
    "len(df['Officer ID'].unique())"
   ]
  },
  {
   "cell_type": "markdown",
   "metadata": {},
   "source": [
    "#### 8. Officer YOB"
   ]
  },
  {
   "cell_type": "code",
   "execution_count": 242,
   "metadata": {},
   "outputs": [
    {
     "data": {
      "text/plain": [
       "17"
      ]
     },
     "execution_count": 242,
     "metadata": {},
     "output_type": "execute_result"
    }
   ],
   "source": [
    "df['Officer YOB'].isna().sum()\n",
    "\n",
    "# Does the age of the officer have any effect on the result of the terry stop\n",
    "# df['Officer YOB'].value_counts()\n",
    "\n",
    "# Oldest officer born in 1948 (must drop 5 arrests where YOB==1900)\n",
    "# sorted(df['Officer YOB'])"
   ]
  },
  {
   "cell_type": "markdown",
   "metadata": {},
   "source": [
    "#### 9. Officer Gender"
   ]
  },
  {
   "cell_type": "code",
   "execution_count": 244,
   "metadata": {},
   "outputs": [
    {
     "data": {
      "text/plain": [
       "M    23151\n",
       "F     2886\n",
       "N        5\n",
       "Name: Officer Gender, dtype: int64"
      ]
     },
     "execution_count": 244,
     "metadata": {},
     "output_type": "execute_result"
    }
   ],
   "source": [
    "df['Officer Gender'].value_counts()"
   ]
  },
  {
   "cell_type": "markdown",
   "metadata": {},
   "source": [
    "#### 10. Officer Race"
   ]
  },
  {
   "cell_type": "code",
   "execution_count": 250,
   "metadata": {},
   "outputs": [
    {
     "data": {
      "text/plain": [
       "Caucasian           20399\n",
       "Unknown              1820\n",
       "Hispanic             1229\n",
       "African American     1077\n",
       "Asian                 956\n",
       "Native Islander       308\n",
       "Native American       253\n",
       "Name: Officer Race, dtype: int64"
      ]
     },
     "execution_count": 250,
     "metadata": {},
     "output_type": "execute_result"
    }
   ],
   "source": [
    "df['Officer Race'].value_counts()"
   ]
  },
  {
   "cell_type": "code",
   "execution_count": 247,
   "metadata": {},
   "outputs": [],
   "source": [
    "race_map = {\n",
    "    'White': 'Caucasian',\n",
    "    'Hispanic or Latino': 'Hispanic',\n",
    "    'Two or More Races': 'Unknown',\n",
    "    'Black or African American': 'African American',\n",
    "    'Asian': 'Asian',\n",
    "    'Not Specified': 'Unknown',\n",
    "    'Nat Hawaiian/Oth Pac Islander': 'Native Islander',\n",
    "    'American Indian/Alaska Native': 'Native American',\n",
    "    'Unknown': 'Unknown'\n",
    "}"
   ]
  },
  {
   "cell_type": "code",
   "execution_count": 248,
   "metadata": {},
   "outputs": [],
   "source": [
    "df['Officer Race'] = df['Officer Race'].map(race_map)"
   ]
  },
  {
   "cell_type": "markdown",
   "metadata": {},
   "source": [
    "#### 11. Subject Perceived Race "
   ]
  },
  {
   "cell_type": "code",
   "execution_count": 256,
   "metadata": {},
   "outputs": [
    {
     "data": {
      "text/plain": [
       "White                               12837\n",
       "Black                                7999\n",
       "Hispanic                             1225\n",
       "Unknown                              1194\n",
       "American Indian / Alaskan Native      843\n",
       "Asian                                 793\n",
       "Multi-Racial                          669\n",
       "-                                     376\n",
       "Other                                 106\n",
       "Name: Subject Perceived Race, dtype: int64"
      ]
     },
     "execution_count": 256,
     "metadata": {},
     "output_type": "execute_result"
    }
   ],
   "source": [
    "df['Subject Perceived Race'].value_counts()"
   ]
  },
  {
   "cell_type": "code",
   "execution_count": null,
   "metadata": {},
   "outputs": [],
   "source": [
    "p_race_map = {\n",
    "    'White': 'Caucasian',\n",
    "    'Hispanic': 'Hispanic',\n",
    "    'Multi-Racial': 'Unknown',\n",
    "    \n",
    "    'Asian': 'Asian',\n",
    "    '-': 'Unknown',\n",
    "    'American Indian / Alaska Native': 'Native American',\n",
    "    'Unknown': 'Unknown'\n",
    "}"
   ]
  },
  {
   "cell_type": "code",
   "execution_count": 253,
   "metadata": {},
   "outputs": [],
   "source": [
    "df['Subject Perceived Race'] = df['Subject Perceived Race'].map(p_race_map)"
   ]
  },
  {
   "cell_type": "code",
   "execution_count": 254,
   "metadata": {},
   "outputs": [
    {
     "data": {
      "text/plain": [
       "Caucasian    12837\n",
       "Unknown       1194\n",
       "Asian          793\n",
       "Name: Subject Perceived Race, dtype: int64"
      ]
     },
     "execution_count": 254,
     "metadata": {},
     "output_type": "execute_result"
    }
   ],
   "source": [
    "df['Subject Perceived Race'].value_counts()"
   ]
  },
  {
   "cell_type": "code",
   "execution_count": 249,
   "metadata": {},
   "outputs": [
    {
     "data": {
      "text/html": [
       "<div>\n",
       "<style scoped>\n",
       "    .dataframe tbody tr th:only-of-type {\n",
       "        vertical-align: middle;\n",
       "    }\n",
       "\n",
       "    .dataframe tbody tr th {\n",
       "        vertical-align: top;\n",
       "    }\n",
       "\n",
       "    .dataframe thead th {\n",
       "        text-align: right;\n",
       "    }\n",
       "</style>\n",
       "<table border=\"1\" class=\"dataframe\">\n",
       "  <thead>\n",
       "    <tr style=\"text-align: right;\">\n",
       "      <th></th>\n",
       "      <th>Subject Age Group</th>\n",
       "      <th>Subject ID</th>\n",
       "      <th>GO / SC Num</th>\n",
       "      <th>Terry Stop ID</th>\n",
       "      <th>Stop Resolution</th>\n",
       "      <th>Weapon Type</th>\n",
       "      <th>Officer ID</th>\n",
       "      <th>Officer YOB</th>\n",
       "      <th>Officer Gender</th>\n",
       "      <th>Officer Race</th>\n",
       "      <th>...</th>\n",
       "      <th>Reported Time</th>\n",
       "      <th>Initial Call Type</th>\n",
       "      <th>Final Call Type</th>\n",
       "      <th>Call Type</th>\n",
       "      <th>Officer Squad</th>\n",
       "      <th>Arrest Flag</th>\n",
       "      <th>Frisk Flag</th>\n",
       "      <th>Precinct</th>\n",
       "      <th>Sector</th>\n",
       "      <th>Beat</th>\n",
       "    </tr>\n",
       "  </thead>\n",
       "  <tbody>\n",
       "    <tr>\n",
       "      <th>0</th>\n",
       "      <td>36 - 45</td>\n",
       "      <td>NaN</td>\n",
       "      <td>20150000088359</td>\n",
       "      <td>10012</td>\n",
       "      <td>-</td>\n",
       "      <td>None</td>\n",
       "      <td>1735</td>\n",
       "      <td>1977.0</td>\n",
       "      <td>M</td>\n",
       "      <td>Caucasian</td>\n",
       "      <td>...</td>\n",
       "      <td>09:58:00.0000000</td>\n",
       "      <td>WARRANT - FELONY PICKUP</td>\n",
       "      <td>--WARRANT SERVICES - FELONY</td>\n",
       "      <td>ONVIEW</td>\n",
       "      <td>NaN</td>\n",
       "      <td>N</td>\n",
       "      <td>N</td>\n",
       "      <td>East</td>\n",
       "      <td>E</td>\n",
       "      <td>E2</td>\n",
       "    </tr>\n",
       "    <tr>\n",
       "      <th>1</th>\n",
       "      <td>26 - 35</td>\n",
       "      <td>NaN</td>\n",
       "      <td>20150000087858</td>\n",
       "      <td>10068</td>\n",
       "      <td>GO Report</td>\n",
       "      <td>None</td>\n",
       "      <td>1561</td>\n",
       "      <td>1984.0</td>\n",
       "      <td>M</td>\n",
       "      <td>Caucasian</td>\n",
       "      <td>...</td>\n",
       "      <td>19:08:00.0000000</td>\n",
       "      <td>THREATS (INCLS IN-PERSON/BY PHONE/IN WRITING)</td>\n",
       "      <td>--DISTURBANCE - OTHER</td>\n",
       "      <td>911</td>\n",
       "      <td>NaN</td>\n",
       "      <td>N</td>\n",
       "      <td>N</td>\n",
       "      <td>East</td>\n",
       "      <td>G</td>\n",
       "      <td>G3</td>\n",
       "    </tr>\n",
       "    <tr>\n",
       "      <th>2</th>\n",
       "      <td>18 - 25</td>\n",
       "      <td>NaN</td>\n",
       "      <td>20150000001461</td>\n",
       "      <td>10103</td>\n",
       "      <td>Street Check</td>\n",
       "      <td>None</td>\n",
       "      <td>1539</td>\n",
       "      <td>1973.0</td>\n",
       "      <td>M</td>\n",
       "      <td>Caucasian</td>\n",
       "      <td>...</td>\n",
       "      <td>01:32:00.0000000</td>\n",
       "      <td>NaN</td>\n",
       "      <td>NaN</td>\n",
       "      <td>NaN</td>\n",
       "      <td>NaN</td>\n",
       "      <td>N</td>\n",
       "      <td>N</td>\n",
       "      <td>NaN</td>\n",
       "      <td>NaN</td>\n",
       "      <td>NaN</td>\n",
       "    </tr>\n",
       "    <tr>\n",
       "      <th>3</th>\n",
       "      <td>18 - 25</td>\n",
       "      <td>NaN</td>\n",
       "      <td>20150000001461</td>\n",
       "      <td>10104</td>\n",
       "      <td>Street Check</td>\n",
       "      <td>None</td>\n",
       "      <td>1539</td>\n",
       "      <td>1973.0</td>\n",
       "      <td>M</td>\n",
       "      <td>Caucasian</td>\n",
       "      <td>...</td>\n",
       "      <td>01:35:00.0000000</td>\n",
       "      <td>NaN</td>\n",
       "      <td>NaN</td>\n",
       "      <td>NaN</td>\n",
       "      <td>NaN</td>\n",
       "      <td>N</td>\n",
       "      <td>N</td>\n",
       "      <td>NaN</td>\n",
       "      <td>NaN</td>\n",
       "      <td>NaN</td>\n",
       "    </tr>\n",
       "    <tr>\n",
       "      <th>4</th>\n",
       "      <td>26 - 35</td>\n",
       "      <td>NaN</td>\n",
       "      <td>20150000103696</td>\n",
       "      <td>10207</td>\n",
       "      <td>Street Check</td>\n",
       "      <td>None</td>\n",
       "      <td>1539</td>\n",
       "      <td>1973.0</td>\n",
       "      <td>M</td>\n",
       "      <td>Caucasian</td>\n",
       "      <td>...</td>\n",
       "      <td>21:08:00.0000000</td>\n",
       "      <td>PROPERTY - DAMAGE</td>\n",
       "      <td>--PROPERTY DEST (DAMG)</td>\n",
       "      <td>911</td>\n",
       "      <td>NaN</td>\n",
       "      <td>N</td>\n",
       "      <td>N</td>\n",
       "      <td>East</td>\n",
       "      <td>E</td>\n",
       "      <td>E2</td>\n",
       "    </tr>\n",
       "  </tbody>\n",
       "</table>\n",
       "<p>5 rows × 23 columns</p>\n",
       "</div>"
      ],
      "text/plain": [
       "  Subject Age Group  Subject ID     GO / SC Num  Terry Stop ID  \\\n",
       "0           36 - 45         NaN  20150000088359          10012   \n",
       "1           26 - 35         NaN  20150000087858          10068   \n",
       "2           18 - 25         NaN  20150000001461          10103   \n",
       "3           18 - 25         NaN  20150000001461          10104   \n",
       "4           26 - 35         NaN  20150000103696          10207   \n",
       "\n",
       "  Stop Resolution Weapon Type  Officer ID  Officer YOB Officer Gender  \\\n",
       "0               -        None        1735       1977.0              M   \n",
       "1       GO Report        None        1561       1984.0              M   \n",
       "2    Street Check        None        1539       1973.0              M   \n",
       "3    Street Check        None        1539       1973.0              M   \n",
       "4    Street Check        None        1539       1973.0              M   \n",
       "\n",
       "  Officer Race  ...     Reported Time  \\\n",
       "0    Caucasian  ...  09:58:00.0000000   \n",
       "1    Caucasian  ...  19:08:00.0000000   \n",
       "2    Caucasian  ...  01:32:00.0000000   \n",
       "3    Caucasian  ...  01:35:00.0000000   \n",
       "4    Caucasian  ...  21:08:00.0000000   \n",
       "\n",
       "                               Initial Call Type              Final Call Type  \\\n",
       "0                        WARRANT - FELONY PICKUP  --WARRANT SERVICES - FELONY   \n",
       "1  THREATS (INCLS IN-PERSON/BY PHONE/IN WRITING)        --DISTURBANCE - OTHER   \n",
       "2                                            NaN                          NaN   \n",
       "3                                            NaN                          NaN   \n",
       "4                              PROPERTY - DAMAGE       --PROPERTY DEST (DAMG)   \n",
       "\n",
       "  Call Type Officer Squad Arrest Flag Frisk Flag Precinct Sector Beat  \n",
       "0    ONVIEW           NaN           N          N     East      E   E2  \n",
       "1       911           NaN           N          N     East      G   G3  \n",
       "2       NaN           NaN           N          N      NaN    NaN  NaN  \n",
       "3       NaN           NaN           N          N      NaN    NaN  NaN  \n",
       "4       911           NaN           N          N     East      E   E2  \n",
       "\n",
       "[5 rows x 23 columns]"
      ]
     },
     "execution_count": 249,
     "metadata": {},
     "output_type": "execute_result"
    }
   ],
   "source": [
    "df.head()"
   ]
  },
  {
   "cell_type": "markdown",
   "metadata": {},
   "source": [
    "#### Time-of-Day"
   ]
  },
  {
   "cell_type": "code",
   "execution_count": null,
   "metadata": {},
   "outputs": [],
   "source": [
    "# Converted arrest 'Reported Time' into Time-of-Day ('Reported TOD')\n",
    "df['Reported TOD'] = pd.to_datetime(df['Reported Time'], format= '%H:%M:%S.%f').dt.time\n",
    "df.drop('Reported Time', axis=1)"
   ]
  },
  {
   "cell_type": "code",
   "execution_count": 52,
   "metadata": {},
   "outputs": [],
   "source": [
    "# np.logical_or(df['Reported TOD'] < 6:00 or df['Reported TOD'] > 20:00)\n",
    "df['Reported Hour'] = df['Reported TOD'].apply(lambda x: x.hour)"
   ]
  },
  {
   "cell_type": "code",
   "execution_count": 58,
   "metadata": {},
   "outputs": [],
   "source": [
    "early_morning = df['Reported Hour'] < 6\n",
    "evening = df['Reported Hour'] > 18\n",
    "night = df['Reported Hour'] > 20"
   ]
  },
  {
   "cell_type": "code",
   "execution_count": 60,
   "metadata": {},
   "outputs": [
    {
     "data": {
      "text/html": [
       "<div>\n",
       "<style scoped>\n",
       "    .dataframe tbody tr th:only-of-type {\n",
       "        vertical-align: middle;\n",
       "    }\n",
       "\n",
       "    .dataframe tbody tr th {\n",
       "        vertical-align: top;\n",
       "    }\n",
       "\n",
       "    .dataframe thead th {\n",
       "        text-align: right;\n",
       "    }\n",
       "</style>\n",
       "<table border=\"1\" class=\"dataframe\">\n",
       "  <thead>\n",
       "    <tr style=\"text-align: right;\">\n",
       "      <th></th>\n",
       "      <th>Subject Age Group</th>\n",
       "      <th>Subject ID</th>\n",
       "      <th>GO / SC Num</th>\n",
       "      <th>Terry Stop ID</th>\n",
       "      <th>Stop Resolution</th>\n",
       "      <th>Weapon Type</th>\n",
       "      <th>Officer ID</th>\n",
       "      <th>Officer YOB</th>\n",
       "      <th>Officer Gender</th>\n",
       "      <th>Officer Race</th>\n",
       "      <th>...</th>\n",
       "      <th>Final Call Type</th>\n",
       "      <th>Call Type</th>\n",
       "      <th>Officer Squad</th>\n",
       "      <th>Arrest Flag</th>\n",
       "      <th>Frisk Flag</th>\n",
       "      <th>Precinct</th>\n",
       "      <th>Sector</th>\n",
       "      <th>Beat</th>\n",
       "      <th>Reported TOD</th>\n",
       "      <th>Reported Hour</th>\n",
       "    </tr>\n",
       "  </thead>\n",
       "  <tbody>\n",
       "    <tr>\n",
       "      <th>2</th>\n",
       "      <td>18 - 25</td>\n",
       "      <td>NaN</td>\n",
       "      <td>20150000001461</td>\n",
       "      <td>10103</td>\n",
       "      <td>Street Check</td>\n",
       "      <td>None</td>\n",
       "      <td>1539</td>\n",
       "      <td>1973.0</td>\n",
       "      <td>M</td>\n",
       "      <td>White</td>\n",
       "      <td>...</td>\n",
       "      <td>NaN</td>\n",
       "      <td>NaN</td>\n",
       "      <td>NaN</td>\n",
       "      <td>N</td>\n",
       "      <td>N</td>\n",
       "      <td>NaN</td>\n",
       "      <td>NaN</td>\n",
       "      <td>NaN</td>\n",
       "      <td>01:32:00</td>\n",
       "      <td>1</td>\n",
       "    </tr>\n",
       "    <tr>\n",
       "      <th>3</th>\n",
       "      <td>18 - 25</td>\n",
       "      <td>NaN</td>\n",
       "      <td>20150000001461</td>\n",
       "      <td>10104</td>\n",
       "      <td>Street Check</td>\n",
       "      <td>None</td>\n",
       "      <td>1539</td>\n",
       "      <td>1973.0</td>\n",
       "      <td>M</td>\n",
       "      <td>White</td>\n",
       "      <td>...</td>\n",
       "      <td>NaN</td>\n",
       "      <td>NaN</td>\n",
       "      <td>NaN</td>\n",
       "      <td>N</td>\n",
       "      <td>N</td>\n",
       "      <td>NaN</td>\n",
       "      <td>NaN</td>\n",
       "      <td>NaN</td>\n",
       "      <td>01:35:00</td>\n",
       "      <td>1</td>\n",
       "    </tr>\n",
       "    <tr>\n",
       "      <th>5</th>\n",
       "      <td>-</td>\n",
       "      <td>NaN</td>\n",
       "      <td>20150000001670</td>\n",
       "      <td>10209</td>\n",
       "      <td>Street Check</td>\n",
       "      <td>None</td>\n",
       "      <td>1651</td>\n",
       "      <td>1963.0</td>\n",
       "      <td>M</td>\n",
       "      <td>White</td>\n",
       "      <td>...</td>\n",
       "      <td>NaN</td>\n",
       "      <td>NaN</td>\n",
       "      <td>NaN</td>\n",
       "      <td>N</td>\n",
       "      <td>N</td>\n",
       "      <td>NaN</td>\n",
       "      <td>NaN</td>\n",
       "      <td>NaN</td>\n",
       "      <td>04:55:00</td>\n",
       "      <td>4</td>\n",
       "    </tr>\n",
       "    <tr>\n",
       "      <th>6</th>\n",
       "      <td>26 - 35</td>\n",
       "      <td>NaN</td>\n",
       "      <td>20150000001824</td>\n",
       "      <td>10289</td>\n",
       "      <td>Street Check</td>\n",
       "      <td>None</td>\n",
       "      <td>1848</td>\n",
       "      <td>1986.0</td>\n",
       "      <td>M</td>\n",
       "      <td>Two or More Races</td>\n",
       "      <td>...</td>\n",
       "      <td>NaN</td>\n",
       "      <td>NaN</td>\n",
       "      <td>NaN</td>\n",
       "      <td>N</td>\n",
       "      <td>N</td>\n",
       "      <td>NaN</td>\n",
       "      <td>NaN</td>\n",
       "      <td>NaN</td>\n",
       "      <td>02:33:00</td>\n",
       "      <td>2</td>\n",
       "    </tr>\n",
       "    <tr>\n",
       "      <th>7</th>\n",
       "      <td>26 - 35</td>\n",
       "      <td>NaN</td>\n",
       "      <td>20150000001824</td>\n",
       "      <td>10290</td>\n",
       "      <td>Street Check</td>\n",
       "      <td>None</td>\n",
       "      <td>1848</td>\n",
       "      <td>1986.0</td>\n",
       "      <td>M</td>\n",
       "      <td>Two or More Races</td>\n",
       "      <td>...</td>\n",
       "      <td>NaN</td>\n",
       "      <td>NaN</td>\n",
       "      <td>NaN</td>\n",
       "      <td>N</td>\n",
       "      <td>N</td>\n",
       "      <td>NaN</td>\n",
       "      <td>NaN</td>\n",
       "      <td>NaN</td>\n",
       "      <td>02:36:00</td>\n",
       "      <td>2</td>\n",
       "    </tr>\n",
       "  </tbody>\n",
       "</table>\n",
       "<p>5 rows × 25 columns</p>\n",
       "</div>"
      ],
      "text/plain": [
       "  Subject Age Group  Subject ID     GO / SC Num  Terry Stop ID  \\\n",
       "2           18 - 25         NaN  20150000001461          10103   \n",
       "3           18 - 25         NaN  20150000001461          10104   \n",
       "5                 -         NaN  20150000001670          10209   \n",
       "6           26 - 35         NaN  20150000001824          10289   \n",
       "7           26 - 35         NaN  20150000001824          10290   \n",
       "\n",
       "  Stop Resolution Weapon Type  Officer ID  Officer YOB Officer Gender  \\\n",
       "2    Street Check        None        1539       1973.0              M   \n",
       "3    Street Check        None        1539       1973.0              M   \n",
       "5    Street Check        None        1651       1963.0              M   \n",
       "6    Street Check        None        1848       1986.0              M   \n",
       "7    Street Check        None        1848       1986.0              M   \n",
       "\n",
       "        Officer Race  ... Final Call Type Call Type Officer Squad Arrest Flag  \\\n",
       "2              White  ...             NaN       NaN           NaN           N   \n",
       "3              White  ...             NaN       NaN           NaN           N   \n",
       "5              White  ...             NaN       NaN           NaN           N   \n",
       "6  Two or More Races  ...             NaN       NaN           NaN           N   \n",
       "7  Two or More Races  ...             NaN       NaN           NaN           N   \n",
       "\n",
       "  Frisk Flag Precinct Sector Beat Reported TOD Reported Hour  \n",
       "2          N      NaN    NaN  NaN     01:32:00             1  \n",
       "3          N      NaN    NaN  NaN     01:35:00             1  \n",
       "5          N      NaN    NaN  NaN     04:55:00             4  \n",
       "6          N      NaN    NaN  NaN     02:33:00             2  \n",
       "7          N      NaN    NaN  NaN     02:36:00             2  \n",
       "\n",
       "[5 rows x 25 columns]"
      ]
     },
     "execution_count": 60,
     "metadata": {},
     "output_type": "execute_result"
    }
   ],
   "source": [
    "df[early_morning].head()"
   ]
  },
  {
   "cell_type": "markdown",
   "metadata": {},
   "source": [
    "#### Arrest Flag - target variable"
   ]
  },
  {
   "cell_type": "code",
   "execution_count": 5,
   "metadata": {},
   "outputs": [
    {
     "data": {
      "text/plain": [
       "(5807, 23)"
      ]
     },
     "execution_count": 5,
     "metadata": {},
     "output_type": "execute_result"
    }
   ],
   "source": [
    "# how many traffic stops ended in arrest\n",
    "arrest = df['Arrest Flag']=='Y'\n",
    "\n",
    "# 5807\n",
    "df[arrest].shape"
   ]
  },
  {
   "cell_type": "code",
   "execution_count": null,
   "metadata": {},
   "outputs": [],
   "source": []
  }
 ],
 "metadata": {
  "kernelspec": {
   "display_name": "Python 3",
   "language": "python",
   "name": "python3"
  },
  "language_info": {
   "codemirror_mode": {
    "name": "ipython",
    "version": 3
   },
   "file_extension": ".py",
   "mimetype": "text/x-python",
   "name": "python",
   "nbconvert_exporter": "python",
   "pygments_lexer": "ipython3",
   "version": "3.7.6"
  }
 },
 "nbformat": 4,
 "nbformat_minor": 2
}
