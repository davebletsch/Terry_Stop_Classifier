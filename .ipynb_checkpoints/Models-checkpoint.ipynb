{
 "cells": [
  {
   "cell_type": "markdown",
   "metadata": {},
   "source": [
    "## LEFT OFF HERE:"
   ]
  },
  {
   "cell_type": "markdown",
   "metadata": {},
   "source": [
    "- dummy classifier ROC curve\n",
    "- PCA?\n",
    "- SVG?\n",
    "- ROC curves"
   ]
  },
  {
   "cell_type": "code",
   "execution_count": 118,
   "metadata": {},
   "outputs": [],
   "source": [
    "import pandas as pd\n",
    "import numpy as np\n",
    "import seaborn as sns\n",
    "import matplotlib.pyplot as plt\n",
    "%matplotlib inline\n",
    "from sklearn.model_selection import train_test_split\n",
    "from sklearn.linear_model import LogisticRegression\n",
    "from sklearn.preprocessing import StandardScaler\n",
    "from sklearn.neighbors import KNeighborsClassifier\n",
    "from sklearn.tree import DecisionTreeClassifier\n",
    "from sklearn.metrics import precision_score, recall_score, accuracy_score, f1_score, confusion_matrix, plot_roc_curve, roc_curve\n",
    "from sklearn.dummy import DummyClassifier"
   ]
  },
  {
   "cell_type": "code",
   "execution_count": 119,
   "metadata": {},
   "outputs": [
    {
     "data": {
      "text/html": [
       "<div>\n",
       "<style scoped>\n",
       "    .dataframe tbody tr th:only-of-type {\n",
       "        vertical-align: middle;\n",
       "    }\n",
       "\n",
       "    .dataframe tbody tr th {\n",
       "        vertical-align: top;\n",
       "    }\n",
       "\n",
       "    .dataframe thead th {\n",
       "        text-align: right;\n",
       "    }\n",
       "</style>\n",
       "<table border=\"1\" class=\"dataframe\">\n",
       "  <thead>\n",
       "    <tr style=\"text-align: right;\">\n",
       "      <th></th>\n",
       "      <th>Subject_Age_Group</th>\n",
       "      <th>Subject_ID</th>\n",
       "      <th>Terry_Stop_ID</th>\n",
       "      <th>Stop_Resolution</th>\n",
       "      <th>Weapon_Type</th>\n",
       "      <th>Officer_ID</th>\n",
       "      <th>Officer_YOB</th>\n",
       "      <th>Officer_Gender</th>\n",
       "      <th>Subject_Perceived_Gender</th>\n",
       "      <th>Reported_Date</th>\n",
       "      <th>Arrest_Flag</th>\n",
       "      <th>Frisk_Flag</th>\n",
       "      <th>Reported_TOD</th>\n",
       "      <th>Young_Officer</th>\n",
       "      <th>Late_Night</th>\n",
       "      <th>Officer_White</th>\n",
       "      <th>Subject_Perceived_White</th>\n",
       "    </tr>\n",
       "  </thead>\n",
       "  <tbody>\n",
       "    <tr>\n",
       "      <th>892</th>\n",
       "      <td>18 - 25</td>\n",
       "      <td>4.0</td>\n",
       "      <td>13435</td>\n",
       "      <td>GO Report</td>\n",
       "      <td>None</td>\n",
       "      <td>1559</td>\n",
       "      <td>1985.0</td>\n",
       "      <td>M</td>\n",
       "      <td>Female</td>\n",
       "      <td>2015-08-07</td>\n",
       "      <td>N</td>\n",
       "      <td>N</td>\n",
       "      <td>21:45:00</td>\n",
       "      <td>0</td>\n",
       "      <td>0</td>\n",
       "      <td>1</td>\n",
       "      <td>0</td>\n",
       "    </tr>\n",
       "    <tr>\n",
       "      <th>893</th>\n",
       "      <td>-</td>\n",
       "      <td>5.0</td>\n",
       "      <td>32980</td>\n",
       "      <td>Street Check</td>\n",
       "      <td>None</td>\n",
       "      <td>2153</td>\n",
       "      <td>1992.0</td>\n",
       "      <td>M</td>\n",
       "      <td>Male</td>\n",
       "      <td>2017-11-12</td>\n",
       "      <td>N</td>\n",
       "      <td>N</td>\n",
       "      <td>01:45:00</td>\n",
       "      <td>1</td>\n",
       "      <td>1</td>\n",
       "      <td>1</td>\n",
       "      <td>0</td>\n",
       "    </tr>\n",
       "    <tr>\n",
       "      <th>894</th>\n",
       "      <td>46 - 55</td>\n",
       "      <td>6.0</td>\n",
       "      <td>39041</td>\n",
       "      <td>GO Report</td>\n",
       "      <td>None</td>\n",
       "      <td>653</td>\n",
       "      <td>1961.0</td>\n",
       "      <td>M</td>\n",
       "      <td>Male</td>\n",
       "      <td>2018-03-18</td>\n",
       "      <td>N</td>\n",
       "      <td>Y</td>\n",
       "      <td>21:49:00</td>\n",
       "      <td>0</td>\n",
       "      <td>0</td>\n",
       "      <td>1</td>\n",
       "      <td>0</td>\n",
       "    </tr>\n",
       "    <tr>\n",
       "      <th>895</th>\n",
       "      <td>46 - 55</td>\n",
       "      <td>13.0</td>\n",
       "      <td>40227</td>\n",
       "      <td>Arrest with GO or Supplemental</td>\n",
       "      <td>None</td>\n",
       "      <td>1701</td>\n",
       "      <td>1978.0</td>\n",
       "      <td>M</td>\n",
       "      <td>Female</td>\n",
       "      <td>2018-05-15</td>\n",
       "      <td>Y</td>\n",
       "      <td>N</td>\n",
       "      <td>07:53:00</td>\n",
       "      <td>0</td>\n",
       "      <td>0</td>\n",
       "      <td>1</td>\n",
       "      <td>1</td>\n",
       "    </tr>\n",
       "    <tr>\n",
       "      <th>896</th>\n",
       "      <td>26 - 35</td>\n",
       "      <td>14.0</td>\n",
       "      <td>15894</td>\n",
       "      <td>GO Report</td>\n",
       "      <td>None</td>\n",
       "      <td>1465</td>\n",
       "      <td>1983.0</td>\n",
       "      <td>M</td>\n",
       "      <td>Male</td>\n",
       "      <td>2015-10-30</td>\n",
       "      <td>N</td>\n",
       "      <td>N</td>\n",
       "      <td>11:31:00</td>\n",
       "      <td>0</td>\n",
       "      <td>0</td>\n",
       "      <td>0</td>\n",
       "      <td>1</td>\n",
       "    </tr>\n",
       "  </tbody>\n",
       "</table>\n",
       "</div>"
      ],
      "text/plain": [
       "    Subject_Age_Group  Subject_ID  Terry_Stop_ID  \\\n",
       "892           18 - 25         4.0          13435   \n",
       "893                 -         5.0          32980   \n",
       "894           46 - 55         6.0          39041   \n",
       "895           46 - 55        13.0          40227   \n",
       "896           26 - 35        14.0          15894   \n",
       "\n",
       "                    Stop_Resolution Weapon_Type  Officer_ID  Officer_YOB  \\\n",
       "892                       GO Report        None        1559       1985.0   \n",
       "893                    Street Check        None        2153       1992.0   \n",
       "894                       GO Report        None         653       1961.0   \n",
       "895  Arrest with GO or Supplemental        None        1701       1978.0   \n",
       "896                       GO Report        None        1465       1983.0   \n",
       "\n",
       "    Officer_Gender Subject_Perceived_Gender Reported_Date Arrest_Flag  \\\n",
       "892              M                   Female    2015-08-07           N   \n",
       "893              M                     Male    2017-11-12           N   \n",
       "894              M                     Male    2018-03-18           N   \n",
       "895              M                   Female    2018-05-15           Y   \n",
       "896              M                     Male    2015-10-30           N   \n",
       "\n",
       "    Frisk_Flag Reported_TOD  Young_Officer  Late_Night  Officer_White  \\\n",
       "892          N     21:45:00              0           0              1   \n",
       "893          N     01:45:00              1           1              1   \n",
       "894          Y     21:49:00              0           0              1   \n",
       "895          N     07:53:00              0           0              1   \n",
       "896          N     11:31:00              0           0              0   \n",
       "\n",
       "     Subject_Perceived_White  \n",
       "892                        0  \n",
       "893                        0  \n",
       "894                        0  \n",
       "895                        1  \n",
       "896                        1  "
      ]
     },
     "execution_count": 119,
     "metadata": {},
     "output_type": "execute_result"
    }
   ],
   "source": [
    "df = pd.read_csv('terry-stops-engineered', index_col=0)\n",
    "df.head()"
   ]
  },
  {
   "cell_type": "markdown",
   "metadata": {},
   "source": [
    "## Convert Target Variable to binary encoding"
   ]
  },
  {
   "cell_type": "code",
   "execution_count": 120,
   "metadata": {},
   "outputs": [],
   "source": [
    "df['Arrest_Flag'] = df['Arrest_Flag'].map({'Y':1, 'N':0})"
   ]
  },
  {
   "cell_type": "code",
   "execution_count": 121,
   "metadata": {},
   "outputs": [
    {
     "data": {
      "text/html": [
       "<div>\n",
       "<style scoped>\n",
       "    .dataframe tbody tr th:only-of-type {\n",
       "        vertical-align: middle;\n",
       "    }\n",
       "\n",
       "    .dataframe tbody tr th {\n",
       "        vertical-align: top;\n",
       "    }\n",
       "\n",
       "    .dataframe thead th {\n",
       "        text-align: right;\n",
       "    }\n",
       "</style>\n",
       "<table border=\"1\" class=\"dataframe\">\n",
       "  <thead>\n",
       "    <tr style=\"text-align: right;\">\n",
       "      <th></th>\n",
       "      <th>Subject_Age_Group</th>\n",
       "      <th>Subject_ID</th>\n",
       "      <th>Terry_Stop_ID</th>\n",
       "      <th>Stop_Resolution</th>\n",
       "      <th>Weapon_Type</th>\n",
       "      <th>Officer_ID</th>\n",
       "      <th>Officer_YOB</th>\n",
       "      <th>Officer_Gender</th>\n",
       "      <th>Subject_Perceived_Gender</th>\n",
       "      <th>Reported_Date</th>\n",
       "      <th>Arrest_Flag</th>\n",
       "      <th>Frisk_Flag</th>\n",
       "      <th>Reported_TOD</th>\n",
       "      <th>Young_Officer</th>\n",
       "      <th>Late_Night</th>\n",
       "      <th>Officer_White</th>\n",
       "      <th>Subject_Perceived_White</th>\n",
       "    </tr>\n",
       "  </thead>\n",
       "  <tbody>\n",
       "    <tr>\n",
       "      <th>892</th>\n",
       "      <td>18 - 25</td>\n",
       "      <td>4.0</td>\n",
       "      <td>13435</td>\n",
       "      <td>GO Report</td>\n",
       "      <td>None</td>\n",
       "      <td>1559</td>\n",
       "      <td>1985.0</td>\n",
       "      <td>M</td>\n",
       "      <td>Female</td>\n",
       "      <td>2015-08-07</td>\n",
       "      <td>0</td>\n",
       "      <td>N</td>\n",
       "      <td>21:45:00</td>\n",
       "      <td>0</td>\n",
       "      <td>0</td>\n",
       "      <td>1</td>\n",
       "      <td>0</td>\n",
       "    </tr>\n",
       "    <tr>\n",
       "      <th>893</th>\n",
       "      <td>-</td>\n",
       "      <td>5.0</td>\n",
       "      <td>32980</td>\n",
       "      <td>Street Check</td>\n",
       "      <td>None</td>\n",
       "      <td>2153</td>\n",
       "      <td>1992.0</td>\n",
       "      <td>M</td>\n",
       "      <td>Male</td>\n",
       "      <td>2017-11-12</td>\n",
       "      <td>0</td>\n",
       "      <td>N</td>\n",
       "      <td>01:45:00</td>\n",
       "      <td>1</td>\n",
       "      <td>1</td>\n",
       "      <td>1</td>\n",
       "      <td>0</td>\n",
       "    </tr>\n",
       "    <tr>\n",
       "      <th>894</th>\n",
       "      <td>46 - 55</td>\n",
       "      <td>6.0</td>\n",
       "      <td>39041</td>\n",
       "      <td>GO Report</td>\n",
       "      <td>None</td>\n",
       "      <td>653</td>\n",
       "      <td>1961.0</td>\n",
       "      <td>M</td>\n",
       "      <td>Male</td>\n",
       "      <td>2018-03-18</td>\n",
       "      <td>0</td>\n",
       "      <td>Y</td>\n",
       "      <td>21:49:00</td>\n",
       "      <td>0</td>\n",
       "      <td>0</td>\n",
       "      <td>1</td>\n",
       "      <td>0</td>\n",
       "    </tr>\n",
       "    <tr>\n",
       "      <th>895</th>\n",
       "      <td>46 - 55</td>\n",
       "      <td>13.0</td>\n",
       "      <td>40227</td>\n",
       "      <td>Arrest with GO or Supplemental</td>\n",
       "      <td>None</td>\n",
       "      <td>1701</td>\n",
       "      <td>1978.0</td>\n",
       "      <td>M</td>\n",
       "      <td>Female</td>\n",
       "      <td>2018-05-15</td>\n",
       "      <td>1</td>\n",
       "      <td>N</td>\n",
       "      <td>07:53:00</td>\n",
       "      <td>0</td>\n",
       "      <td>0</td>\n",
       "      <td>1</td>\n",
       "      <td>1</td>\n",
       "    </tr>\n",
       "    <tr>\n",
       "      <th>896</th>\n",
       "      <td>26 - 35</td>\n",
       "      <td>14.0</td>\n",
       "      <td>15894</td>\n",
       "      <td>GO Report</td>\n",
       "      <td>None</td>\n",
       "      <td>1465</td>\n",
       "      <td>1983.0</td>\n",
       "      <td>M</td>\n",
       "      <td>Male</td>\n",
       "      <td>2015-10-30</td>\n",
       "      <td>0</td>\n",
       "      <td>N</td>\n",
       "      <td>11:31:00</td>\n",
       "      <td>0</td>\n",
       "      <td>0</td>\n",
       "      <td>0</td>\n",
       "      <td>1</td>\n",
       "    </tr>\n",
       "  </tbody>\n",
       "</table>\n",
       "</div>"
      ],
      "text/plain": [
       "    Subject_Age_Group  Subject_ID  Terry_Stop_ID  \\\n",
       "892           18 - 25         4.0          13435   \n",
       "893                 -         5.0          32980   \n",
       "894           46 - 55         6.0          39041   \n",
       "895           46 - 55        13.0          40227   \n",
       "896           26 - 35        14.0          15894   \n",
       "\n",
       "                    Stop_Resolution Weapon_Type  Officer_ID  Officer_YOB  \\\n",
       "892                       GO Report        None        1559       1985.0   \n",
       "893                    Street Check        None        2153       1992.0   \n",
       "894                       GO Report        None         653       1961.0   \n",
       "895  Arrest with GO or Supplemental        None        1701       1978.0   \n",
       "896                       GO Report        None        1465       1983.0   \n",
       "\n",
       "    Officer_Gender Subject_Perceived_Gender Reported_Date  Arrest_Flag  \\\n",
       "892              M                   Female    2015-08-07            0   \n",
       "893              M                     Male    2017-11-12            0   \n",
       "894              M                     Male    2018-03-18            0   \n",
       "895              M                   Female    2018-05-15            1   \n",
       "896              M                     Male    2015-10-30            0   \n",
       "\n",
       "    Frisk_Flag Reported_TOD  Young_Officer  Late_Night  Officer_White  \\\n",
       "892          N     21:45:00              0           0              1   \n",
       "893          N     01:45:00              1           1              1   \n",
       "894          Y     21:49:00              0           0              1   \n",
       "895          N     07:53:00              0           0              1   \n",
       "896          N     11:31:00              0           0              0   \n",
       "\n",
       "     Subject_Perceived_White  \n",
       "892                        0  \n",
       "893                        0  \n",
       "894                        0  \n",
       "895                        1  \n",
       "896                        1  "
      ]
     },
     "execution_count": 121,
     "metadata": {},
     "output_type": "execute_result"
    }
   ],
   "source": [
    "df.head()"
   ]
  },
  {
   "cell_type": "markdown",
   "metadata": {},
   "source": [
    "# Preprocessing"
   ]
  },
  {
   "cell_type": "markdown",
   "metadata": {},
   "source": [
    "removing some variables that i might play with later"
   ]
  },
  {
   "cell_type": "code",
   "execution_count": 122,
   "metadata": {},
   "outputs": [],
   "source": [
    "# Features matrix\n",
    "df.drop(['Subject_ID', 'Terry_Stop_ID', 'Officer_ID', 'Officer_YOB',\n",
    "             'Reported_Date', 'Stop_Resolution', 'Reported_TOD'], axis=1, inplace=True)\n",
    "\n",
    "# Target Variable\n",
    "y = df['Arrest_Flag']"
   ]
  },
  {
   "cell_type": "code",
   "execution_count": 123,
   "metadata": {},
   "outputs": [],
   "source": [
    "X = df.drop('Arrest_Flag', axis=1)\n",
    "\n",
    "# List of model features\n",
    "feature_cols = X.columns"
   ]
  },
  {
   "cell_type": "code",
   "execution_count": 124,
   "metadata": {},
   "outputs": [
    {
     "name": "stdout",
     "output_type": "stream",
     "text": [
      "9\n"
     ]
    },
    {
     "data": {
      "text/plain": [
       "Index(['Subject_Age_Group', 'Weapon_Type', 'Officer_Gender',\n",
       "       'Subject_Perceived_Gender', 'Frisk_Flag', 'Young_Officer', 'Late_Night',\n",
       "       'Officer_White', 'Subject_Perceived_White'],\n",
       "      dtype='object')"
      ]
     },
     "execution_count": 124,
     "metadata": {},
     "output_type": "execute_result"
    }
   ],
   "source": [
    "print(len(feature_cols))\n",
    "feature_cols"
   ]
  },
  {
   "cell_type": "markdown",
   "metadata": {},
   "source": [
    "## One-Hot-Encoding Categorical Data"
   ]
  },
  {
   "cell_type": "code",
   "execution_count": 126,
   "metadata": {},
   "outputs": [
    {
     "data": {
      "text/html": [
       "<div>\n",
       "<style scoped>\n",
       "    .dataframe tbody tr th:only-of-type {\n",
       "        vertical-align: middle;\n",
       "    }\n",
       "\n",
       "    .dataframe tbody tr th {\n",
       "        vertical-align: top;\n",
       "    }\n",
       "\n",
       "    .dataframe thead th {\n",
       "        text-align: right;\n",
       "    }\n",
       "</style>\n",
       "<table border=\"1\" class=\"dataframe\">\n",
       "  <thead>\n",
       "    <tr style=\"text-align: right;\">\n",
       "      <th></th>\n",
       "      <th>Young_Officer</th>\n",
       "      <th>Late_Night</th>\n",
       "      <th>Officer_White</th>\n",
       "      <th>Subject_Perceived_White</th>\n",
       "      <th>Subject_Age_Group_-</th>\n",
       "      <th>Subject_Age_Group_1 - 17</th>\n",
       "      <th>Subject_Age_Group_18 - 25</th>\n",
       "      <th>Subject_Age_Group_26 - 35</th>\n",
       "      <th>Subject_Age_Group_36 - 45</th>\n",
       "      <th>Subject_Age_Group_46 - 55</th>\n",
       "      <th>...</th>\n",
       "      <th>Weapon_Type_None</th>\n",
       "      <th>Weapon_Type_Other</th>\n",
       "      <th>Officer_Gender_F</th>\n",
       "      <th>Officer_Gender_M</th>\n",
       "      <th>Subject_Perceived_Gender_Female</th>\n",
       "      <th>Subject_Perceived_Gender_Male</th>\n",
       "      <th>Subject_Perceived_Gender_Unable to Determine</th>\n",
       "      <th>Frisk_Flag_-</th>\n",
       "      <th>Frisk_Flag_N</th>\n",
       "      <th>Frisk_Flag_Y</th>\n",
       "    </tr>\n",
       "  </thead>\n",
       "  <tbody>\n",
       "    <tr>\n",
       "      <th>892</th>\n",
       "      <td>0</td>\n",
       "      <td>0</td>\n",
       "      <td>1</td>\n",
       "      <td>0</td>\n",
       "      <td>0</td>\n",
       "      <td>0</td>\n",
       "      <td>1</td>\n",
       "      <td>0</td>\n",
       "      <td>0</td>\n",
       "      <td>0</td>\n",
       "      <td>...</td>\n",
       "      <td>1</td>\n",
       "      <td>0</td>\n",
       "      <td>0</td>\n",
       "      <td>1</td>\n",
       "      <td>1</td>\n",
       "      <td>0</td>\n",
       "      <td>0</td>\n",
       "      <td>0</td>\n",
       "      <td>1</td>\n",
       "      <td>0</td>\n",
       "    </tr>\n",
       "    <tr>\n",
       "      <th>893</th>\n",
       "      <td>1</td>\n",
       "      <td>1</td>\n",
       "      <td>1</td>\n",
       "      <td>0</td>\n",
       "      <td>1</td>\n",
       "      <td>0</td>\n",
       "      <td>0</td>\n",
       "      <td>0</td>\n",
       "      <td>0</td>\n",
       "      <td>0</td>\n",
       "      <td>...</td>\n",
       "      <td>1</td>\n",
       "      <td>0</td>\n",
       "      <td>0</td>\n",
       "      <td>1</td>\n",
       "      <td>0</td>\n",
       "      <td>1</td>\n",
       "      <td>0</td>\n",
       "      <td>0</td>\n",
       "      <td>1</td>\n",
       "      <td>0</td>\n",
       "    </tr>\n",
       "    <tr>\n",
       "      <th>894</th>\n",
       "      <td>0</td>\n",
       "      <td>0</td>\n",
       "      <td>1</td>\n",
       "      <td>0</td>\n",
       "      <td>0</td>\n",
       "      <td>0</td>\n",
       "      <td>0</td>\n",
       "      <td>0</td>\n",
       "      <td>0</td>\n",
       "      <td>1</td>\n",
       "      <td>...</td>\n",
       "      <td>1</td>\n",
       "      <td>0</td>\n",
       "      <td>0</td>\n",
       "      <td>1</td>\n",
       "      <td>0</td>\n",
       "      <td>1</td>\n",
       "      <td>0</td>\n",
       "      <td>0</td>\n",
       "      <td>0</td>\n",
       "      <td>1</td>\n",
       "    </tr>\n",
       "    <tr>\n",
       "      <th>895</th>\n",
       "      <td>0</td>\n",
       "      <td>0</td>\n",
       "      <td>1</td>\n",
       "      <td>1</td>\n",
       "      <td>0</td>\n",
       "      <td>0</td>\n",
       "      <td>0</td>\n",
       "      <td>0</td>\n",
       "      <td>0</td>\n",
       "      <td>1</td>\n",
       "      <td>...</td>\n",
       "      <td>1</td>\n",
       "      <td>0</td>\n",
       "      <td>0</td>\n",
       "      <td>1</td>\n",
       "      <td>1</td>\n",
       "      <td>0</td>\n",
       "      <td>0</td>\n",
       "      <td>0</td>\n",
       "      <td>1</td>\n",
       "      <td>0</td>\n",
       "    </tr>\n",
       "    <tr>\n",
       "      <th>896</th>\n",
       "      <td>0</td>\n",
       "      <td>0</td>\n",
       "      <td>0</td>\n",
       "      <td>1</td>\n",
       "      <td>0</td>\n",
       "      <td>0</td>\n",
       "      <td>0</td>\n",
       "      <td>1</td>\n",
       "      <td>0</td>\n",
       "      <td>0</td>\n",
       "      <td>...</td>\n",
       "      <td>1</td>\n",
       "      <td>0</td>\n",
       "      <td>0</td>\n",
       "      <td>1</td>\n",
       "      <td>0</td>\n",
       "      <td>1</td>\n",
       "      <td>0</td>\n",
       "      <td>0</td>\n",
       "      <td>1</td>\n",
       "      <td>0</td>\n",
       "    </tr>\n",
       "  </tbody>\n",
       "</table>\n",
       "<p>5 rows × 24 columns</p>\n",
       "</div>"
      ],
      "text/plain": [
       "     Young_Officer  Late_Night  Officer_White  Subject_Perceived_White  \\\n",
       "892              0           0              1                        0   \n",
       "893              1           1              1                        0   \n",
       "894              0           0              1                        0   \n",
       "895              0           0              1                        1   \n",
       "896              0           0              0                        1   \n",
       "\n",
       "     Subject_Age_Group_-  Subject_Age_Group_1 - 17  Subject_Age_Group_18 - 25  \\\n",
       "892                    0                         0                          1   \n",
       "893                    1                         0                          0   \n",
       "894                    0                         0                          0   \n",
       "895                    0                         0                          0   \n",
       "896                    0                         0                          0   \n",
       "\n",
       "     Subject_Age_Group_26 - 35  Subject_Age_Group_36 - 45  \\\n",
       "892                          0                          0   \n",
       "893                          0                          0   \n",
       "894                          0                          0   \n",
       "895                          0                          0   \n",
       "896                          1                          0   \n",
       "\n",
       "     Subject_Age_Group_46 - 55  ...  Weapon_Type_None  Weapon_Type_Other  \\\n",
       "892                          0  ...                 1                  0   \n",
       "893                          0  ...                 1                  0   \n",
       "894                          1  ...                 1                  0   \n",
       "895                          1  ...                 1                  0   \n",
       "896                          0  ...                 1                  0   \n",
       "\n",
       "     Officer_Gender_F  Officer_Gender_M  Subject_Perceived_Gender_Female  \\\n",
       "892                 0                 1                                1   \n",
       "893                 0                 1                                0   \n",
       "894                 0                 1                                0   \n",
       "895                 0                 1                                1   \n",
       "896                 0                 1                                0   \n",
       "\n",
       "     Subject_Perceived_Gender_Male  \\\n",
       "892                              0   \n",
       "893                              1   \n",
       "894                              1   \n",
       "895                              0   \n",
       "896                              1   \n",
       "\n",
       "     Subject_Perceived_Gender_Unable to Determine  Frisk_Flag_-  Frisk_Flag_N  \\\n",
       "892                                             0             0             1   \n",
       "893                                             0             0             1   \n",
       "894                                             0             0             0   \n",
       "895                                             0             0             1   \n",
       "896                                             0             0             1   \n",
       "\n",
       "     Frisk_Flag_Y  \n",
       "892             0  \n",
       "893             0  \n",
       "894             1  \n",
       "895             0  \n",
       "896             0  \n",
       "\n",
       "[5 rows x 24 columns]"
      ]
     },
     "execution_count": 126,
     "metadata": {},
     "output_type": "execute_result"
    }
   ],
   "source": [
    "# Get dummy variables for categorical data\n",
    "one_hot_df = pd.get_dummies(X, columns=['Subject_Age_Group', 'Weapon_Type', 'Officer_Gender', 'Subject_Perceived_Gender', 'Frisk_Flag'])\n",
    "one_hot_df.head()"
   ]
  },
  {
   "cell_type": "code",
   "execution_count": 127,
   "metadata": {},
   "outputs": [
    {
     "data": {
      "text/plain": [
       "(25095, 24)"
      ]
     },
     "execution_count": 127,
     "metadata": {},
     "output_type": "execute_result"
    }
   ],
   "source": [
    "one_hot_df.shape"
   ]
  },
  {
   "cell_type": "code",
   "execution_count": 128,
   "metadata": {},
   "outputs": [],
   "source": [
    "# Split data into training and test set\n",
    "X_train, X_test, y_train, y_test = train_test_split(one_hot_df, y, random_state=1)"
   ]
  },
  {
   "cell_type": "markdown",
   "metadata": {},
   "source": [
    "## Normalize Data"
   ]
  },
  {
   "cell_type": "code",
   "execution_count": 129,
   "metadata": {},
   "outputs": [
    {
     "data": {
      "text/html": [
       "<div>\n",
       "<style scoped>\n",
       "    .dataframe tbody tr th:only-of-type {\n",
       "        vertical-align: middle;\n",
       "    }\n",
       "\n",
       "    .dataframe tbody tr th {\n",
       "        vertical-align: top;\n",
       "    }\n",
       "\n",
       "    .dataframe thead th {\n",
       "        text-align: right;\n",
       "    }\n",
       "</style>\n",
       "<table border=\"1\" class=\"dataframe\">\n",
       "  <thead>\n",
       "    <tr style=\"text-align: right;\">\n",
       "      <th></th>\n",
       "      <th>Young_Officer</th>\n",
       "      <th>Late_Night</th>\n",
       "      <th>Officer_White</th>\n",
       "      <th>Subject_Perceived_White</th>\n",
       "      <th>Subject_Age_Group_-</th>\n",
       "      <th>Subject_Age_Group_1 - 17</th>\n",
       "      <th>Subject_Age_Group_18 - 25</th>\n",
       "      <th>Subject_Age_Group_26 - 35</th>\n",
       "      <th>Subject_Age_Group_36 - 45</th>\n",
       "      <th>Subject_Age_Group_46 - 55</th>\n",
       "      <th>...</th>\n",
       "      <th>Weapon_Type_None</th>\n",
       "      <th>Weapon_Type_Other</th>\n",
       "      <th>Officer_Gender_F</th>\n",
       "      <th>Officer_Gender_M</th>\n",
       "      <th>Subject_Perceived_Gender_Female</th>\n",
       "      <th>Subject_Perceived_Gender_Male</th>\n",
       "      <th>Subject_Perceived_Gender_Unable to Determine</th>\n",
       "      <th>Frisk_Flag_-</th>\n",
       "      <th>Frisk_Flag_N</th>\n",
       "      <th>Frisk_Flag_Y</th>\n",
       "    </tr>\n",
       "  </thead>\n",
       "  <tbody>\n",
       "    <tr>\n",
       "      <th>0</th>\n",
       "      <td>-0.380382</td>\n",
       "      <td>-0.683005</td>\n",
       "      <td>0.520661</td>\n",
       "      <td>1.003993</td>\n",
       "      <td>-0.176723</td>\n",
       "      <td>-0.235504</td>\n",
       "      <td>1.873837</td>\n",
       "      <td>-0.696762</td>\n",
       "      <td>-0.495247</td>\n",
       "      <td>-0.381479</td>\n",
       "      <td>...</td>\n",
       "      <td>0.242338</td>\n",
       "      <td>-0.040618</td>\n",
       "      <td>-0.355052</td>\n",
       "      <td>0.355052</td>\n",
       "      <td>-0.513068</td>\n",
       "      <td>0.536457</td>\n",
       "      <td>-0.123777</td>\n",
       "      <td>-0.11341</td>\n",
       "      <td>0.544582</td>\n",
       "      <td>-0.524945</td>\n",
       "    </tr>\n",
       "    <tr>\n",
       "      <th>1</th>\n",
       "      <td>-0.380382</td>\n",
       "      <td>1.464119</td>\n",
       "      <td>-1.920635</td>\n",
       "      <td>1.003993</td>\n",
       "      <td>-0.176723</td>\n",
       "      <td>-0.235504</td>\n",
       "      <td>-0.533664</td>\n",
       "      <td>-0.696762</td>\n",
       "      <td>2.019196</td>\n",
       "      <td>-0.381479</td>\n",
       "      <td>...</td>\n",
       "      <td>0.242338</td>\n",
       "      <td>-0.040618</td>\n",
       "      <td>-0.355052</td>\n",
       "      <td>0.355052</td>\n",
       "      <td>-0.513068</td>\n",
       "      <td>0.536457</td>\n",
       "      <td>-0.123777</td>\n",
       "      <td>-0.11341</td>\n",
       "      <td>0.544582</td>\n",
       "      <td>-0.524945</td>\n",
       "    </tr>\n",
       "    <tr>\n",
       "      <th>2</th>\n",
       "      <td>-0.380382</td>\n",
       "      <td>1.464119</td>\n",
       "      <td>0.520661</td>\n",
       "      <td>-0.996023</td>\n",
       "      <td>-0.176723</td>\n",
       "      <td>-0.235504</td>\n",
       "      <td>-0.533664</td>\n",
       "      <td>1.435210</td>\n",
       "      <td>-0.495247</td>\n",
       "      <td>-0.381479</td>\n",
       "      <td>...</td>\n",
       "      <td>0.242338</td>\n",
       "      <td>-0.040618</td>\n",
       "      <td>-0.355052</td>\n",
       "      <td>0.355052</td>\n",
       "      <td>-0.513068</td>\n",
       "      <td>0.536457</td>\n",
       "      <td>-0.123777</td>\n",
       "      <td>-0.11341</td>\n",
       "      <td>0.544582</td>\n",
       "      <td>-0.524945</td>\n",
       "    </tr>\n",
       "    <tr>\n",
       "      <th>3</th>\n",
       "      <td>2.628937</td>\n",
       "      <td>-0.683005</td>\n",
       "      <td>0.520661</td>\n",
       "      <td>1.003993</td>\n",
       "      <td>-0.176723</td>\n",
       "      <td>-0.235504</td>\n",
       "      <td>-0.533664</td>\n",
       "      <td>-0.696762</td>\n",
       "      <td>2.019196</td>\n",
       "      <td>-0.381479</td>\n",
       "      <td>...</td>\n",
       "      <td>0.242338</td>\n",
       "      <td>-0.040618</td>\n",
       "      <td>-0.355052</td>\n",
       "      <td>0.355052</td>\n",
       "      <td>1.949058</td>\n",
       "      <td>-1.864081</td>\n",
       "      <td>-0.123777</td>\n",
       "      <td>-0.11341</td>\n",
       "      <td>0.544582</td>\n",
       "      <td>-0.524945</td>\n",
       "    </tr>\n",
       "    <tr>\n",
       "      <th>4</th>\n",
       "      <td>-0.380382</td>\n",
       "      <td>-0.683005</td>\n",
       "      <td>0.520661</td>\n",
       "      <td>1.003993</td>\n",
       "      <td>-0.176723</td>\n",
       "      <td>-0.235504</td>\n",
       "      <td>-0.533664</td>\n",
       "      <td>-0.696762</td>\n",
       "      <td>-0.495247</td>\n",
       "      <td>2.621374</td>\n",
       "      <td>...</td>\n",
       "      <td>0.242338</td>\n",
       "      <td>-0.040618</td>\n",
       "      <td>-0.355052</td>\n",
       "      <td>0.355052</td>\n",
       "      <td>-0.513068</td>\n",
       "      <td>0.536457</td>\n",
       "      <td>-0.123777</td>\n",
       "      <td>-0.11341</td>\n",
       "      <td>0.544582</td>\n",
       "      <td>-0.524945</td>\n",
       "    </tr>\n",
       "  </tbody>\n",
       "</table>\n",
       "<p>5 rows × 24 columns</p>\n",
       "</div>"
      ],
      "text/plain": [
       "   Young_Officer  Late_Night  Officer_White  Subject_Perceived_White  \\\n",
       "0      -0.380382   -0.683005       0.520661                 1.003993   \n",
       "1      -0.380382    1.464119      -1.920635                 1.003993   \n",
       "2      -0.380382    1.464119       0.520661                -0.996023   \n",
       "3       2.628937   -0.683005       0.520661                 1.003993   \n",
       "4      -0.380382   -0.683005       0.520661                 1.003993   \n",
       "\n",
       "   Subject_Age_Group_-  Subject_Age_Group_1 - 17  Subject_Age_Group_18 - 25  \\\n",
       "0            -0.176723                 -0.235504                   1.873837   \n",
       "1            -0.176723                 -0.235504                  -0.533664   \n",
       "2            -0.176723                 -0.235504                  -0.533664   \n",
       "3            -0.176723                 -0.235504                  -0.533664   \n",
       "4            -0.176723                 -0.235504                  -0.533664   \n",
       "\n",
       "   Subject_Age_Group_26 - 35  Subject_Age_Group_36 - 45  \\\n",
       "0                  -0.696762                  -0.495247   \n",
       "1                  -0.696762                   2.019196   \n",
       "2                   1.435210                  -0.495247   \n",
       "3                  -0.696762                   2.019196   \n",
       "4                  -0.696762                  -0.495247   \n",
       "\n",
       "   Subject_Age_Group_46 - 55  ...  Weapon_Type_None  Weapon_Type_Other  \\\n",
       "0                  -0.381479  ...          0.242338          -0.040618   \n",
       "1                  -0.381479  ...          0.242338          -0.040618   \n",
       "2                  -0.381479  ...          0.242338          -0.040618   \n",
       "3                  -0.381479  ...          0.242338          -0.040618   \n",
       "4                   2.621374  ...          0.242338          -0.040618   \n",
       "\n",
       "   Officer_Gender_F  Officer_Gender_M  Subject_Perceived_Gender_Female  \\\n",
       "0         -0.355052          0.355052                        -0.513068   \n",
       "1         -0.355052          0.355052                        -0.513068   \n",
       "2         -0.355052          0.355052                        -0.513068   \n",
       "3         -0.355052          0.355052                         1.949058   \n",
       "4         -0.355052          0.355052                        -0.513068   \n",
       "\n",
       "   Subject_Perceived_Gender_Male  \\\n",
       "0                       0.536457   \n",
       "1                       0.536457   \n",
       "2                       0.536457   \n",
       "3                      -1.864081   \n",
       "4                       0.536457   \n",
       "\n",
       "   Subject_Perceived_Gender_Unable to Determine  Frisk_Flag_-  Frisk_Flag_N  \\\n",
       "0                                     -0.123777      -0.11341      0.544582   \n",
       "1                                     -0.123777      -0.11341      0.544582   \n",
       "2                                     -0.123777      -0.11341      0.544582   \n",
       "3                                     -0.123777      -0.11341      0.544582   \n",
       "4                                     -0.123777      -0.11341      0.544582   \n",
       "\n",
       "   Frisk_Flag_Y  \n",
       "0     -0.524945  \n",
       "1     -0.524945  \n",
       "2     -0.524945  \n",
       "3     -0.524945  \n",
       "4     -0.524945  \n",
       "\n",
       "[5 rows x 24 columns]"
      ]
     },
     "execution_count": 129,
     "metadata": {},
     "output_type": "execute_result"
    }
   ],
   "source": [
    "# Instantiate Scaler\n",
    "scaler = StandardScaler()\n",
    "\n",
    "# Transform training/test sets\n",
    "scaled_data_train = scaler.fit_transform(X_train)\n",
    "scaled_data_test = scaler.fit_transform(X_test)\n",
    "\n",
    "# Convert into a DataFrame\n",
    "scaled_df_train = pd.DataFrame(scaled_data_train, columns=one_hot_df.columns)\n",
    "scaled_df_train.head()"
   ]
  },
  {
   "cell_type": "markdown",
   "metadata": {},
   "source": [
    "# Modeling"
   ]
  },
  {
   "cell_type": "markdown",
   "metadata": {},
   "source": [
    "# 0. Dummy Classifier"
   ]
  },
  {
   "cell_type": "code",
   "execution_count": 74,
   "metadata": {},
   "outputs": [
    {
     "name": "stdout",
     "output_type": "stream",
     "text": [
      "Train F1 Score: 0.23\n",
      "Test F1 Score:  0.219\n"
     ]
    }
   ],
   "source": [
    "# instantiate classifier, fit model, make predict\n",
    "base = DummyClassifier()\n",
    "base.fit(X_train, y_train)\n",
    "base_y_hat_pred = base.predict(X_train)\n",
    "base_y_pred = base.predict(X_test)\n",
    "\n",
    "# print F1 Score\n",
    "print('Train F1 Score: {}'.format(round(f1_score(y_train, base_y_hat_pred),3)))\n",
    "print('Test F1 Score:  {}'.format(round(f1_score(y_test, base_y_pred),3)))\n"
   ]
  },
  {
   "cell_type": "code",
   "execution_count": 152,
   "metadata": {},
   "outputs": [
    {
     "name": "stdout",
     "output_type": "stream",
     "text": [
      "Precision Score: 0.22\n",
      "Recall Score:    0.218\n",
      "Accuracy Score:  0.642\n"
     ]
    }
   ],
   "source": [
    "# 'How often were positive predictions correct?'\n",
    "print(\"Precision Score: {}\".format(round(precision_score(y_test, base_y_pred), 3)))\n",
    "\n",
    "# How sensitive is the model ('How many actual positives were identified?')\n",
    "print(\"Recall Score:    {}\".format(round(recall_score(y_test, base_y_pred), 3))) \n",
    "\n",
    "# 'How often is the classifier correct?'\n",
    "print(\"Accuracy Score:  {}\".format(round(accuracy_score(y_test, base_y_pred), 3)))\n"
   ]
  },
  {
   "cell_type": "markdown",
   "metadata": {},
   "source": [
    "### Confusion Matrix - Dummy Classifier"
   ]
  },
  {
   "cell_type": "code",
   "execution_count": 130,
   "metadata": {},
   "outputs": [],
   "source": [
    "def plot_confusion_matrix(cm, classes,\n",
    "                          normalize=False,\n",
    "                          title='Confusion matrix',\n",
    "                          cmap=plt.cm.Blues):\n",
    "    \"\"\"\n",
    "    This function prints and plots the confusion matrix.\n",
    "    Normalization can be applied by setting `normalize=True`.\n",
    "    \"\"\"\n",
    "    if normalize:\n",
    "        cm = cm.astype('float') / cm.sum(axis=1)[:, np.newaxis]\n",
    "        print(\"Normalized confusion matrix\")\n",
    "    else:\n",
    "        print('Confusion Matrix, without normalization')\n",
    "\n",
    "    print(cm)\n",
    "\n",
    "    plt.imshow(cm, interpolation='nearest', cmap=cmap)\n",
    "    plt.title(title)\n",
    "    plt.colorbar()\n",
    "    tick_marks = np.arange(len(classes))\n",
    "    plt.xticks(tick_marks, classes, rotation=45)\n",
    "    plt.yticks(tick_marks, classes)\n",
    "\n",
    "    fmt = '.2f' if normalize else 'd'\n",
    "    thresh = cm.max() / 2.\n",
    "    for i, j in itertools.product(range(cm.shape[0]), range(cm.shape[1])):\n",
    "        plt.text(j, i, format(cm[i, j], fmt),\n",
    "                 horizontalalignment=\"center\",\n",
    "                 color=\"white\" if cm[i, j] > thresh else \"black\")\n",
    "\n",
    "    plt.tight_layout()\n",
    "    plt.ylabel('True label')\n",
    "    plt.xlabel('Predicted label')"
   ]
  },
  {
   "cell_type": "code",
   "execution_count": 38,
   "metadata": {},
   "outputs": [],
   "source": [
    "base_cm = confusion_matrix(y_test, base_y_pred)\n",
    "base_classes = ['No Arrest', 'Arrest']\n"
   ]
  },
  {
   "cell_type": "code",
   "execution_count": 153,
   "metadata": {},
   "outputs": [
    {
     "name": "stdout",
     "output_type": "stream",
     "text": [
      "Confusion Matrix, without normalization\n",
      "[[3734 1095]\n",
      " [1097  348]]\n"
     ]
    },
    {
     "data": {
      "image/png": "[encoded data removed]",
      "text/plain": [
       "<Figure size 432x288 with 2 Axes>"
      ]
     },
     "metadata": {
      "needs_background": "light"
     },
     "output_type": "display_data"
    }
   ],
   "source": [
    "import itertools\n",
    "plot_confusion_matrix(base_cm, base_classes, normalize=False, title='Dummyclf Confusion Matrix', cmap=plt.cm.Blues)"
   ]
  },
  {
   "cell_type": "code",
   "execution_count": 172,
   "metadata": {},
   "outputs": [],
   "source": [
    "# save confusion matrix and slice into four pieces\n",
    "base_confusion = confusion_matrix(y_test, y_pred_class)\n",
    "TP = base_confusion[1, 1]\n",
    "TN = base_confusion[0, 0]\n",
    "FP = base_confusion[0, 1]\n",
    "FN = base_confusion[1, 0]"
   ]
  },
  {
   "cell_type": "code",
   "execution_count": 173,
   "metadata": {},
   "outputs": [
    {
     "name": "stdout",
     "output_type": "stream",
     "text": [
      "TP = 22\n",
      "TN = 4807\n",
      "FP = 22\n",
      "FN = 1423\n"
     ]
    }
   ],
   "source": [
    "print('TP = {}'.format(TP))\n",
    "print('TN = {}'.format(TN))\n",
    "print('FP = {}'.format(FP))\n",
    "print('FN = {}'.format(FN))"
   ]
  },
  {
   "cell_type": "code",
   "execution_count": 65,
   "metadata": {},
   "outputs": [
    {
     "data": {
      "text/plain": [
       "True"
      ]
     },
     "execution_count": 65,
     "metadata": {},
     "output_type": "execute_result"
    }
   ],
   "source": [
    "# Confirm predicted labels are correct\n",
    "sum(base_y_pred) == 348+1095"
   ]
  },
  {
   "cell_type": "code",
   "execution_count": 67,
   "metadata": {},
   "outputs": [
    {
     "data": {
      "text/plain": [
       "0    4829\n",
       "1    1445\n",
       "Name: Arrest_Flag, dtype: int64"
      ]
     },
     "execution_count": 67,
     "metadata": {},
     "output_type": "execute_result"
    }
   ],
   "source": [
    "# Confirm true labels are correct\n",
    "y_test.value_counts()"
   ]
  },
  {
   "cell_type": "markdown",
   "metadata": {},
   "source": [
    "### ROC Curve - Dummy Classifier"
   ]
  },
  {
   "cell_type": "code",
   "execution_count": 68,
   "metadata": {},
   "outputs": [],
   "source": [
    "base_y_pred_prob = base.predict_proba(X_test)[:,1]"
   ]
  },
  {
   "cell_type": "code",
   "execution_count": 150,
   "metadata": {},
   "outputs": [
    {
     "data": {
      "text/plain": [
       "(6274,)"
      ]
     },
     "execution_count": 150,
     "metadata": {},
     "output_type": "execute_result"
    }
   ],
   "source": [
    "base_y_pred_prob.shape"
   ]
  },
  {
   "cell_type": "code",
   "execution_count": 151,
   "metadata": {},
   "outputs": [
    {
     "data": {
      "text/plain": [
       "(6274,)"
      ]
     },
     "execution_count": 151,
     "metadata": {},
     "output_type": "execute_result"
    }
   ],
   "source": [
    "y_test.shape"
   ]
  },
  {
   "cell_type": "code",
   "execution_count": 82,
   "metadata": {},
   "outputs": [
    {
     "data": {
      "image/png": "[encoded data removed]",
      "text/plain": [
       "<Figure size 432x288 with 1 Axes>"
      ]
     },
     "metadata": {
      "needs_background": "light"
     },
     "output_type": "display_data"
    }
   ],
   "source": [
    "plot_roc_curve(base, y_test, base_y_pred_prob);"
   ]
  },
  {
   "cell_type": "markdown",
   "metadata": {},
   "source": [
    "# 1. Logistic Regression"
   ]
  },
  {
   "cell_type": "code",
   "execution_count": 139,
   "metadata": {},
   "outputs": [
    {
     "data": {
      "text/plain": [
       "0.7696844118584635"
      ]
     },
     "execution_count": 139,
     "metadata": {},
     "output_type": "execute_result"
    }
   ],
   "source": [
    "# Logistic Regression\n",
    "log_reg = LogisticRegression(max_iter=1000)\n",
    "log_reg.fit(X_train, y_train)\n",
    "log_reg.score(X_test, y_test, sample_weight=None)"
   ]
  },
  {
   "cell_type": "code",
   "execution_count": 44,
   "metadata": {},
   "outputs": [],
   "source": [
    "log_reg_dict = dict(zip(list(X_train.columns), list(log_reg.coef_[0])))"
   ]
  },
  {
   "cell_type": "code",
   "execution_count": 45,
   "metadata": {},
   "outputs": [
    {
     "data": {
      "text/plain": [
       "{'Young_Officer': 0.3506184847658571,\n",
       " 'Late_Night': 0.04034512693332121,\n",
       " 'Officer_White': 0.10066977823575489,\n",
       " 'Subject_Perceived_White': -0.18017155105950333,\n",
       " 'Subject_Age_Group_-': -0.31467543827740097,\n",
       " 'Subject_Age_Group_1 - 17': -0.046814299235908914,\n",
       " 'Subject_Age_Group_18 - 25': 0.11636161857377154,\n",
       " 'Subject_Age_Group_26 - 35': 0.1697762094818462,\n",
       " 'Subject_Age_Group_36 - 45': 0.14363358080890581,\n",
       " 'Subject_Age_Group_46 - 55': -0.09700652733224084,\n",
       " 'Subject_Age_Group_56 and Above': 0.02133412577109484,\n",
       " 'Weapon_Type_Club, Blackjack, Brass Knuckles': -0.07146914800310195,\n",
       " 'Weapon_Type_Firearm': 0.3516012737285775,\n",
       " 'Weapon_Type_Lethal Cutting Instrument': 0.24901080917440965,\n",
       " 'Weapon_Type_None': -0.24945902947813095,\n",
       " 'Weapon_Type_Other': -0.2870746356313388,\n",
       " 'Officer_Gender_F': -0.02846490728494505,\n",
       " 'Officer_Gender_M': 0.021074177075412256,\n",
       " 'Subject_Perceived_Gender_Female': 0.14024323315089787,\n",
       " 'Subject_Perceived_Gender_Male': 0.05837354550768892,\n",
       " 'Subject_Perceived_Gender_Unable to Determine': -0.20600750886836056,\n",
       " 'Frisk_Flag_-': 0.11430422234318913,\n",
       " 'Frisk_Flag_N': -0.45677435102664954,\n",
       " 'Frisk_Flag_Y': 0.33507939847350704}"
      ]
     },
     "execution_count": 45,
     "metadata": {},
     "output_type": "execute_result"
    }
   ],
   "source": [
    "log_reg_dict"
   ]
  },
  {
   "cell_type": "code",
   "execution_count": 46,
   "metadata": {},
   "outputs": [],
   "source": [
    "# Make predictions for test set\n",
    "y_pred_class = log_reg.predict(X_test)\n"
   ]
  },
  {
   "cell_type": "markdown",
   "metadata": {},
   "source": [
    "### Classification Accuracy"
   ]
  },
  {
   "cell_type": "code",
   "execution_count": 47,
   "metadata": {},
   "outputs": [
    {
     "data": {
      "text/plain": [
       "0.7696844118584635"
      ]
     },
     "execution_count": 47,
     "metadata": {},
     "output_type": "execute_result"
    }
   ],
   "source": [
    "accuracy_score(y_test, y_pred_class)"
   ]
  },
  {
   "cell_type": "code",
   "execution_count": 48,
   "metadata": {},
   "outputs": [
    {
     "data": {
      "text/plain": [
       "0    4829\n",
       "1    1445\n",
       "Name: Arrest_Flag, dtype: int64"
      ]
     },
     "execution_count": 48,
     "metadata": {},
     "output_type": "execute_result"
    }
   ],
   "source": [
    "y_test.value_counts()"
   ]
  },
  {
   "cell_type": "markdown",
   "metadata": {},
   "source": [
    "### Calculate null accuracy"
   ]
  },
  {
   "cell_type": "code",
   "execution_count": 49,
   "metadata": {},
   "outputs": [
    {
     "data": {
      "text/plain": [
       "0.2303155881415365"
      ]
     },
     "execution_count": 49,
     "metadata": {},
     "output_type": "execute_result"
    }
   ],
   "source": [
    "p_ones = y_test.mean()\n",
    "p_ones"
   ]
  },
  {
   "cell_type": "code",
   "execution_count": 50,
   "metadata": {},
   "outputs": [
    {
     "data": {
      "text/plain": [
       "0.7696844118584635"
      ]
     },
     "execution_count": 50,
     "metadata": {},
     "output_type": "execute_result"
    }
   ],
   "source": [
    "p_zeros = 1-y_test.mean()\n",
    "p_zeros"
   ]
  },
  {
   "cell_type": "code",
   "execution_count": 51,
   "metadata": {},
   "outputs": [
    {
     "data": {
      "text/plain": [
       "0.7696844118584635"
      ]
     },
     "execution_count": 51,
     "metadata": {},
     "output_type": "execute_result"
    }
   ],
   "source": [
    "max(p_ones, p_zeros)"
   ]
  },
  {
   "cell_type": "markdown",
   "metadata": {},
   "source": [
    "### Confusion Matrix - Logistic Regression"
   ]
  },
  {
   "cell_type": "code",
   "execution_count": 52,
   "metadata": {},
   "outputs": [
    {
     "data": {
      "text/plain": [
       "array([[4807,   22],\n",
       "       [1423,   22]])"
      ]
     },
     "execution_count": 52,
     "metadata": {},
     "output_type": "execute_result"
    }
   ],
   "source": [
    "cm = confusion_matrix(y_test, y_pred_class)\n",
    "cm"
   ]
  },
  {
   "cell_type": "code",
   "execution_count": 177,
   "metadata": {},
   "outputs": [],
   "source": [
    "classes = ['No Arrest', 'Arrest']"
   ]
  },
  {
   "cell_type": "code",
   "execution_count": 75,
   "metadata": {},
   "outputs": [
    {
     "name": "stdout",
     "output_type": "stream",
     "text": [
      "Confusion Matrix, without normalization\n",
      "[[4790   39]\n",
      " [1400   45]]\n"
     ]
    },
    {
     "data": {
      "image/png": "[encoded data removed]",
      "text/plain": [
       "<Figure size 432x288 with 2 Axes>"
      ]
     },
     "metadata": {
      "needs_background": "light"
     },
     "output_type": "display_data"
    }
   ],
   "source": [
    "import itertools\n",
    "plot_confusion_matrix(cm, classes, normalize=False, title='Confusion Matrix', cmap=plt.cm.Blues)"
   ]
  },
  {
   "cell_type": "code",
   "execution_count": 77,
   "metadata": {},
   "outputs": [],
   "source": [
    "# save confusion matrix and slice into four pieces\n",
    "confusion = confusion_matrix(y_test, y_pred_class)\n",
    "TP = confusion[1, 1]\n",
    "TN = confusion[0, 0]\n",
    "FP = confusion[0, 1]\n",
    "FN = confusion[1, 0]"
   ]
  },
  {
   "cell_type": "markdown",
   "metadata": {},
   "source": [
    "Many, many false negatives (model predicted 'No Arrest' but the terry stop ended in an arrest).\n",
    "\n",
    "Perhaps I need to adjust threshold? Parameter tuning?"
   ]
  },
  {
   "cell_type": "code",
   "execution_count": 79,
   "metadata": {},
   "outputs": [
    {
     "name": "stdout",
     "output_type": "stream",
     "text": [
      "TP = 45\n",
      "TN = 4790\n",
      "FP = 39\n",
      "FN = 1400\n"
     ]
    }
   ],
   "source": [
    "print('TP = {}'.format(TP))\n",
    "print('TN = {}'.format(TN))\n",
    "print('FP = {}'.format(FP))\n",
    "print('FN = {}'.format(FN))"
   ]
  },
  {
   "cell_type": "markdown",
   "metadata": {},
   "source": [
    "## Evaluation Metrics from Confusion Matrix"
   ]
  },
  {
   "cell_type": "markdown",
   "metadata": {},
   "source": [
    "#### Classification Accuracy"
   ]
  },
  {
   "cell_type": "code",
   "execution_count": 87,
   "metadata": {},
   "outputs": [
    {
     "name": "stdout",
     "output_type": "stream",
     "text": [
      "Precision Score: 0.536\n",
      "Recall Score:    0.031\n",
      "Accuracy Score:  0.771\n",
      "F1 Score:        0.059\n"
     ]
    }
   ],
   "source": [
    "f1 = 2*(precision_score(y_test, y_pred_class)*recall_score(y_test, y_pred_class))/(precision_score(y_test, y_pred_class)+recall_score(y_test, y_pred_class))\n",
    "\n",
    "# 'How often were positive predictions correct?'\n",
    "print(\"Precision Score: {}\".format(round(precision_score(y_test, y_pred_class), 3)))\n",
    "\n",
    "# How sensitive is the model ('How many actual positives were identified?')\n",
    "print(\"Recall Score:    {}\".format(round(recall_score(y_test, y_pred_class), 3))) \n",
    "\n",
    "# 'How often is the classifier correct?'\n",
    "print(\"Accuracy Score:  {}\".format(round(accuracy_score(y_test, y_pred_class), 3)))\n",
    "\n",
    "# Super-low F1 score (almost 0)\n",
    "print(\"F1 Score:        {}\".format(round(f1, 3)))"
   ]
  },
  {
   "cell_type": "markdown",
   "metadata": {},
   "source": [
    "## ROC Curve for Logistic Regression?"
   ]
  },
  {
   "cell_type": "code",
   "execution_count": 140,
   "metadata": {},
   "outputs": [],
   "source": [
    "base_y_pred_prob = base.predict_proba(X_test)[:,1]"
   ]
  },
  {
   "cell_type": "code",
   "execution_count": null,
   "metadata": {},
   "outputs": [],
   "source": []
  },
  {
   "cell_type": "markdown",
   "metadata": {},
   "source": [
    "# 2. Fit a KNN Model"
   ]
  },
  {
   "cell_type": "code",
   "execution_count": 87,
   "metadata": {},
   "outputs": [],
   "source": [
    "# Instantiate KNClassifier\n",
    "KNNclf = KNeighborsClassifier()\n",
    "\n",
    "# Fit the classifier\n",
    "KNNclf.fit(scaled_data_train, y_train)\n",
    "\n",
    "# Predict on the test set\n",
    "KNN_test_predictions = KNNclf.predict(scaled_data_test)"
   ]
  },
  {
   "cell_type": "markdown",
   "metadata": {},
   "source": [
    "## Evaluation"
   ]
  },
  {
   "cell_type": "code",
   "execution_count": 174,
   "metadata": {},
   "outputs": [
    {
     "data": {
      "text/plain": [
       "array([[4554,  275],\n",
       "       [1275,  170]])"
      ]
     },
     "execution_count": 174,
     "metadata": {},
     "output_type": "execute_result"
    }
   ],
   "source": [
    "KNNcm = confusion_matrix(y_test, KNN_test_predictions)\n",
    "KNNcm"
   ]
  },
  {
   "cell_type": "code",
   "execution_count": 178,
   "metadata": {},
   "outputs": [
    {
     "name": "stdout",
     "output_type": "stream",
     "text": [
      "Confusion Matrix, without normalization\n",
      "[[4554  275]\n",
      " [1275  170]]\n"
     ]
    },
    {
     "data": {
      "image/png": "[encoded data removed]",
      "text/plain": [
       "<Figure size 432x288 with 2 Axes>"
      ]
     },
     "metadata": {
      "needs_background": "light"
     },
     "output_type": "display_data"
    }
   ],
   "source": [
    "plot_confusion_matrix(KNNcm, classes, normalize=False, title='Confusion Matrix', cmap=plt.cm.Blues)"
   ]
  },
  {
   "cell_type": "code",
   "execution_count": 179,
   "metadata": {},
   "outputs": [],
   "source": [
    "# save confusion matrix and slice into four pieces\n",
    "\n",
    "TP = KNNcm[1, 1]\n",
    "TN = KNNcm[0, 0]\n",
    "FP = KNNcm[0, 1]\n",
    "FN = KNNcm[1, 0]"
   ]
  },
  {
   "cell_type": "code",
   "execution_count": 180,
   "metadata": {},
   "outputs": [
    {
     "name": "stdout",
     "output_type": "stream",
     "text": [
      "TP = 170\n",
      "TN = 4554\n",
      "FP = 275\n",
      "FN = 1275\n"
     ]
    }
   ],
   "source": [
    "print('TP = {}'.format(TP))\n",
    "print('TN = {}'.format(TN))\n",
    "print('FP = {}'.format(FP))\n",
    "print('FN = {}'.format(FN))"
   ]
  },
  {
   "cell_type": "code",
   "execution_count": 175,
   "metadata": {},
   "outputs": [
    {
     "name": "stdout",
     "output_type": "stream",
     "text": [
      "Precision Score: 0.382\n",
      "Recall Score:    0.118\n",
      "Accuracy Score:  0.753\n",
      "F1 Score:        0.18\n"
     ]
    }
   ],
   "source": [
    "# Printing evaluation metrics\n",
    "def print_metrics(labels, preds):\n",
    "    precis = precision_score(labels, preds)\n",
    "    recall = recall_score(labels, preds)\n",
    "    accura = accuracy_score(labels, preds)\n",
    "    f1     = f1_score(labels, preds)\n",
    "    \n",
    "    print(\"Precision Score: {}\".format(round(precis, 3)))\n",
    "    print(\"Recall Score:    {}\".format(round(recall, 3)))\n",
    "    print(\"Accuracy Score:  {}\".format(round(accura, 3)))\n",
    "    print(\"F1 Score:        {}\".format(round(f1, 3)))\n",
    "    \n",
    "print_metrics(y_test, KNN_test_predictions)"
   ]
  },
  {
   "cell_type": "markdown",
   "metadata": {},
   "source": [
    "## Find Best Value for k"
   ]
  },
  {
   "cell_type": "code",
   "execution_count": 89,
   "metadata": {},
   "outputs": [],
   "source": [
    "def find_best_k(X_train, y_train, X_test, y_test, min_k=1, max_k=25):\n",
    "    best_k = 0\n",
    "    best_score = 0.0\n",
    "    for k in range(min_k, max_k+1, 2):\n",
    "        knn = KNeighborsClassifier(n_neighbors=k)\n",
    "        knn.fit(X_train, y_train)\n",
    "        preds = knn.predict(X_test)\n",
    "        f1 = f1_score(y_test, preds)\n",
    "        if f1 > best_score:\n",
    "            best_k = k\n",
    "            best_score = f1\n",
    "    \n",
    "    print(\"Best Value for k: {}\".format(best_k))\n",
    "    print(\"F1-Score: {}\".format(best_score))"
   ]
  },
  {
   "cell_type": "code",
   "execution_count": 90,
   "metadata": {},
   "outputs": [
    {
     "name": "stdout",
     "output_type": "stream",
     "text": [
      "Best Value for k: 1\n",
      "F1-Score: 0.2387290682696436\n"
     ]
    }
   ],
   "source": [
    "find_best_k(X_train, y_train, X_test, y_test)"
   ]
  },
  {
   "cell_type": "markdown",
   "metadata": {},
   "source": [
    "#### Best model is a super over-fit one?\n"
   ]
  },
  {
   "cell_type": "code",
   "execution_count": 110,
   "metadata": {},
   "outputs": [],
   "source": [
    "# store the predicted probabilities for class 1\n",
    "KNN_y_pred_prob = KNNclf.predict_proba(X_test)[:, 1]\n",
    "\n",
    "# plot the ROC cure\n",
    "fpr, tpr, thresholds = roc_curve(y_test, KNN_y_pred_prob, pos_label=0)"
   ]
  },
  {
   "cell_type": "code",
   "execution_count": 138,
   "metadata": {},
   "outputs": [
    {
     "ename": "TypeError",
     "evalue": "Cannot cast array data from dtype('float64') to dtype('int64') according to the rule 'safe'",
     "output_type": "error",
     "traceback": [
      "\u001b[0;31m---------------------------------------------------------------------------\u001b[0m",
      "\u001b[0;31mTypeError\u001b[0m                                 Traceback (most recent call last)",
      "\u001b[0;32m<ipython-input-138-b44026fc058e>\u001b[0m in \u001b[0;36m<module>\u001b[0;34m\u001b[0m\n\u001b[0;32m----> 1\u001b[0;31m \u001b[0mnp\u001b[0m\u001b[0;34m.\u001b[0m\u001b[0mbincount\u001b[0m\u001b[0;34m(\u001b[0m\u001b[0mKNN_y_pred_prob\u001b[0m\u001b[0;34m)\u001b[0m\u001b[0;34m\u001b[0m\u001b[0;34m\u001b[0m\u001b[0m\n\u001b[0m",
      "\u001b[0;32m<__array_function__ internals>\u001b[0m in \u001b[0;36mbincount\u001b[0;34m(*args, **kwargs)\u001b[0m\n",
      "\u001b[0;31mTypeError\u001b[0m: Cannot cast array data from dtype('float64') to dtype('int64') according to the rule 'safe'"
     ]
    }
   ],
   "source": [
    "np.bincount(KNN_y_pred_prob)"
   ]
  },
  {
   "cell_type": "code",
   "execution_count": 111,
   "metadata": {},
   "outputs": [
    {
     "data": {
      "image/png": "[encoded data removed]",
      "text/plain": [
       "<Figure size 432x288 with 1 Axes>"
      ]
     },
     "metadata": {
      "needs_background": "light"
     },
     "output_type": "display_data"
    }
   ],
   "source": [
    "plt.plot(fpr, tpr)\n",
    "\n",
    "plt.title('ROC curve for diabetes classifier')\n",
    "plt.xlabel('False Positive Rate (1 - Specificity)')\n",
    "plt.ylabel('True Positive Rate (Sensitivity)')\n",
    "plt.grid(True)"
   ]
  },
  {
   "cell_type": "code",
   "execution_count": 109,
   "metadata": {},
   "outputs": [
    {
     "data": {
      "text/plain": [
       "array([0.        , 0.04567474, 0.08719723, 0.47128028, 1.        ])"
      ]
     },
     "execution_count": 109,
     "metadata": {},
     "output_type": "execute_result"
    }
   ],
   "source": [
    "tpr"
   ]
  },
  {
   "cell_type": "markdown",
   "metadata": {},
   "source": [
    "# 3. Train a Decision Tree"
   ]
  },
  {
   "cell_type": "code",
   "execution_count": 155,
   "metadata": {},
   "outputs": [
    {
     "data": {
      "text/plain": [
       "DecisionTreeClassifier(ccp_alpha=0.0, class_weight=None, criterion='entropy',\n",
       "                       max_depth=None, max_features=None, max_leaf_nodes=None,\n",
       "                       min_impurity_decrease=0.0, min_impurity_split=None,\n",
       "                       min_samples_leaf=1, min_samples_split=2,\n",
       "                       min_weight_fraction_leaf=0.0, presort='deprecated',\n",
       "                       random_state=None, splitter='best')"
      ]
     },
     "execution_count": 155,
     "metadata": {},
     "output_type": "execute_result"
    }
   ],
   "source": [
    "# Create a classifier instance and fit it on the traiing data\n",
    "DCclf = DecisionTreeClassifier(criterion='entropy')\n",
    "DCclf.fit(X_train, y_train)"
   ]
  },
  {
   "cell_type": "markdown",
   "metadata": {},
   "source": [
    "### Can't use graphviz to plot decision tree"
   ]
  },
  {
   "cell_type": "code",
   "execution_count": 122,
   "metadata": {},
   "outputs": [],
   "source": [
    "# DC_test_predictions = DCclf.predict(X_train)\n",
    "\n",
    "# print('Accuracy: {}'.format(accuracy_score(y_test, DC_test_predictions)))"
   ]
  },
  {
   "cell_type": "code",
   "execution_count": 156,
   "metadata": {},
   "outputs": [],
   "source": [
    "DC_test_predictions = DCclf.predict(X_test)"
   ]
  },
  {
   "cell_type": "code",
   "execution_count": 162,
   "metadata": {},
   "outputs": [
    {
     "name": "stdout",
     "output_type": "stream",
     "text": [
      "Precision Score: 0.398\n",
      "Recall Score:    0.05\n",
      "Accuracy Score:  0.764\n",
      "F1 Score:        0.089\n"
     ]
    }
   ],
   "source": [
    "print_metrics(y_test, DC_test_predictions)"
   ]
  },
  {
   "cell_type": "code",
   "execution_count": 163,
   "metadata": {},
   "outputs": [
    {
     "data": {
      "text/plain": [
       "0.763787057698438"
      ]
     },
     "execution_count": 163,
     "metadata": {},
     "output_type": "execute_result"
    }
   ],
   "source": [
    "accuracy_score(y_test, DC_test_predictions)"
   ]
  },
  {
   "cell_type": "markdown",
   "metadata": {},
   "source": [
    "### ???"
   ]
  },
  {
   "cell_type": "code",
   "execution_count": 93,
   "metadata": {},
   "outputs": [
    {
     "name": "stdout",
     "output_type": "stream",
     "text": [
      "[0.7713090245633648, 0.7713090245633648, 0.7705914643538242, 0.7711094879152183, 0.7707507316290835, 0.768399959349529, 0.7681607249757446, 0.7668060162697159, 0.7667659533250021]\n"
     ]
    },
    {
     "data": {
      "image/png": "[encoded data removed]",
      "text/plain": [
       "<Figure size 720x720 with 1 Axes>"
      ]
     },
     "metadata": {
      "needs_background": "light"
     },
     "output_type": "display_data"
    }
   ],
   "source": [
    "from sklearn.model_selection import cross_val_score\n",
    "\n",
    "score = cross_val_score(DCclf, one_hot_df, y, cv = 10)\n",
    "score.mean()\n",
    "depth_range = range(1,10)\n",
    "val = []\n",
    "for depth in depth_range:\n",
    "    DCclf = DecisionTreeClassifier(max_depth = depth)\n",
    "    depth_score = cross_val_score(DCclf, one_hot_df, y, cv = 10)\n",
    "    val.append(depth_score.mean())\n",
    "print(val)\n",
    "plt.figure(figsize = (10,10))\n",
    "plt.plot(depth_range, val)\n",
    "plt.xlabel('range of depth')\n",
    "plt.ylabel('cross validated values')\n",
    "plt.show()"
   ]
  },
  {
   "cell_type": "markdown",
   "metadata": {},
   "source": [
    "# 4. XGBoost"
   ]
  },
  {
   "cell_type": "code",
   "execution_count": 164,
   "metadata": {},
   "outputs": [],
   "source": [
    "from xgboost import XGBClassifier\n",
    "from sklearn.model_selection import GridSearchCV\n",
    "\n",
    "import warnings\n",
    "warnings.filterwarnings('ignore')"
   ]
  },
  {
   "cell_type": "code",
   "execution_count": 181,
   "metadata": {},
   "outputs": [
    {
     "name": "stdout",
     "output_type": "stream",
     "text": [
      "Training Accuracy:   77.45%\n",
      "Training Precision:   60.52%\n",
      "Training Recall:   3.284%\n",
      "Training F1:   6.229%\n",
      "Validation accuracy: 77.08%\n"
     ]
    }
   ],
   "source": [
    "# Instantiate XGBClassifier\n",
    "XGBclf = XGBClassifier()\n",
    "\n",
    "# Fit XGBClassifier\n",
    "XGBclf.fit(X_train, y_train)\n",
    "\n",
    "# Predict on training and test sets\n",
    "training_preds = XGBclf.predict(X_train)\n",
    "test_preds = XGBclf.predict(X_test)\n",
    "\n",
    "# Accuracy of training and test sets\n",
    "training_accuracy = accuracy_score(y_train, training_preds)\n",
    "training_precision = precision_score(y_train, training_preds)\n",
    "training_recall = recall_score(y_train, training_preds)\n",
    "training_f1 = f1_score(y_train, training_preds)\n",
    "\n",
    "test_accuracy = accuracy_score(y_test, test_preds)\n",
    "test_accuracy = accuracy_score(y_test, test_preds)\n",
    "test_accuracy = accuracy_score(y_test, test_preds)\n",
    "test_accuracy = accuracy_score(y_test, test_preds)\n",
    "\n",
    "print('Training Accuracy:   {:.4}%'.format(training_accuracy * 100))\n",
    "print('Training Precision:   {:.4}%'.format(training_precision * 100))\n",
    "print('Training Recall:   {:.4}%'.format(training_recall * 100))\n",
    "print('Training F1:   {:.4}%'.format(training_f1 * 100))\n",
    "\n",
    "print('Validation accuracy: {:.4}%'.format(test_accuracy * 100))\n"
   ]
  },
  {
   "cell_type": "code",
   "execution_count": 167,
   "metadata": {},
   "outputs": [
    {
     "data": {
      "text/plain": [
       "(6274,)"
      ]
     },
     "execution_count": 167,
     "metadata": {},
     "output_type": "execute_result"
    }
   ],
   "source": [
    "y_test.shape"
   ]
  },
  {
   "cell_type": "code",
   "execution_count": 171,
   "metadata": {},
   "outputs": [
    {
     "data": {
      "text/plain": [
       "(18821,)"
      ]
     },
     "execution_count": 171,
     "metadata": {},
     "output_type": "execute_result"
    }
   ],
   "source": [
    "training_preds.shape"
   ]
  },
  {
   "cell_type": "code",
   "execution_count": 166,
   "metadata": {},
   "outputs": [
    {
     "ename": "ValueError",
     "evalue": "Found input variables with inconsistent numbers of samples: [6274, 18821]",
     "output_type": "error",
     "traceback": [
      "\u001b[0;31m---------------------------------------------------------------------------\u001b[0m",
      "\u001b[0;31mValueError\u001b[0m                                Traceback (most recent call last)",
      "\u001b[0;32m<ipython-input-166-e157f41a213e>\u001b[0m in \u001b[0;36m<module>\u001b[0;34m\u001b[0m\n\u001b[0;32m----> 1\u001b[0;31m \u001b[0mprint_metrics\u001b[0m\u001b[0;34m(\u001b[0m\u001b[0my_test\u001b[0m\u001b[0;34m,\u001b[0m \u001b[0mtraining_preds\u001b[0m\u001b[0;34m)\u001b[0m\u001b[0;34m\u001b[0m\u001b[0;34m\u001b[0m\u001b[0m\n\u001b[0m",
      "\u001b[0;32m<ipython-input-161-aab1f06b3a52>\u001b[0m in \u001b[0;36mprint_metrics\u001b[0;34m(labels, preds)\u001b[0m\n\u001b[1;32m      1\u001b[0m \u001b[0;31m# Printing evaluation metrics\u001b[0m\u001b[0;34m\u001b[0m\u001b[0;34m\u001b[0m\u001b[0;34m\u001b[0m\u001b[0m\n\u001b[1;32m      2\u001b[0m \u001b[0;32mdef\u001b[0m \u001b[0mprint_metrics\u001b[0m\u001b[0;34m(\u001b[0m\u001b[0mlabels\u001b[0m\u001b[0;34m,\u001b[0m \u001b[0mpreds\u001b[0m\u001b[0;34m)\u001b[0m\u001b[0;34m:\u001b[0m\u001b[0;34m\u001b[0m\u001b[0;34m\u001b[0m\u001b[0m\n\u001b[0;32m----> 3\u001b[0;31m     \u001b[0mprecis\u001b[0m \u001b[0;34m=\u001b[0m \u001b[0mprecision_score\u001b[0m\u001b[0;34m(\u001b[0m\u001b[0mlabels\u001b[0m\u001b[0;34m,\u001b[0m \u001b[0mpreds\u001b[0m\u001b[0;34m)\u001b[0m\u001b[0;34m\u001b[0m\u001b[0;34m\u001b[0m\u001b[0m\n\u001b[0m\u001b[1;32m      4\u001b[0m     \u001b[0mrecall\u001b[0m \u001b[0;34m=\u001b[0m \u001b[0mrecall_score\u001b[0m\u001b[0;34m(\u001b[0m\u001b[0mlabels\u001b[0m\u001b[0;34m,\u001b[0m \u001b[0mpreds\u001b[0m\u001b[0;34m)\u001b[0m\u001b[0;34m\u001b[0m\u001b[0;34m\u001b[0m\u001b[0m\n\u001b[1;32m      5\u001b[0m     \u001b[0maccura\u001b[0m \u001b[0;34m=\u001b[0m \u001b[0maccuracy_score\u001b[0m\u001b[0;34m(\u001b[0m\u001b[0mlabels\u001b[0m\u001b[0;34m,\u001b[0m \u001b[0mpreds\u001b[0m\u001b[0;34m)\u001b[0m\u001b[0;34m\u001b[0m\u001b[0;34m\u001b[0m\u001b[0m\n",
      "\u001b[0;32m~/anaconda3/lib/python3.7/site-packages/sklearn/metrics/_classification.py\u001b[0m in \u001b[0;36mprecision_score\u001b[0;34m(y_true, y_pred, labels, pos_label, average, sample_weight, zero_division)\u001b[0m\n\u001b[1;32m   1670\u001b[0m                                                  \u001b[0mwarn_for\u001b[0m\u001b[0;34m=\u001b[0m\u001b[0;34m(\u001b[0m\u001b[0;34m'precision'\u001b[0m\u001b[0;34m,\u001b[0m\u001b[0;34m)\u001b[0m\u001b[0;34m,\u001b[0m\u001b[0;34m\u001b[0m\u001b[0;34m\u001b[0m\u001b[0m\n\u001b[1;32m   1671\u001b[0m                                                  \u001b[0msample_weight\u001b[0m\u001b[0;34m=\u001b[0m\u001b[0msample_weight\u001b[0m\u001b[0;34m,\u001b[0m\u001b[0;34m\u001b[0m\u001b[0;34m\u001b[0m\u001b[0m\n\u001b[0;32m-> 1672\u001b[0;31m                                                  zero_division=zero_division)\n\u001b[0m\u001b[1;32m   1673\u001b[0m     \u001b[0;32mreturn\u001b[0m \u001b[0mp\u001b[0m\u001b[0;34m\u001b[0m\u001b[0;34m\u001b[0m\u001b[0m\n\u001b[1;32m   1674\u001b[0m \u001b[0;34m\u001b[0m\u001b[0m\n",
      "\u001b[0;32m~/anaconda3/lib/python3.7/site-packages/sklearn/metrics/_classification.py\u001b[0m in \u001b[0;36mprecision_recall_fscore_support\u001b[0;34m(y_true, y_pred, beta, labels, pos_label, average, warn_for, sample_weight, zero_division)\u001b[0m\n\u001b[1;32m   1482\u001b[0m         \u001b[0;32mraise\u001b[0m \u001b[0mValueError\u001b[0m\u001b[0;34m(\u001b[0m\u001b[0;34m\"beta should be >=0 in the F-beta score\"\u001b[0m\u001b[0;34m)\u001b[0m\u001b[0;34m\u001b[0m\u001b[0;34m\u001b[0m\u001b[0m\n\u001b[1;32m   1483\u001b[0m     labels = _check_set_wise_labels(y_true, y_pred, average, labels,\n\u001b[0;32m-> 1484\u001b[0;31m                                     pos_label)\n\u001b[0m\u001b[1;32m   1485\u001b[0m \u001b[0;34m\u001b[0m\u001b[0m\n\u001b[1;32m   1486\u001b[0m     \u001b[0;31m# Calculate tp_sum, pred_sum, true_sum ###\u001b[0m\u001b[0;34m\u001b[0m\u001b[0;34m\u001b[0m\u001b[0;34m\u001b[0m\u001b[0m\n",
      "\u001b[0;32m~/anaconda3/lib/python3.7/site-packages/sklearn/metrics/_classification.py\u001b[0m in \u001b[0;36m_check_set_wise_labels\u001b[0;34m(y_true, y_pred, average, labels, pos_label)\u001b[0m\n\u001b[1;32m   1299\u001b[0m                          str(average_options))\n\u001b[1;32m   1300\u001b[0m \u001b[0;34m\u001b[0m\u001b[0m\n\u001b[0;32m-> 1301\u001b[0;31m     \u001b[0my_type\u001b[0m\u001b[0;34m,\u001b[0m \u001b[0my_true\u001b[0m\u001b[0;34m,\u001b[0m \u001b[0my_pred\u001b[0m \u001b[0;34m=\u001b[0m \u001b[0m_check_targets\u001b[0m\u001b[0;34m(\u001b[0m\u001b[0my_true\u001b[0m\u001b[0;34m,\u001b[0m \u001b[0my_pred\u001b[0m\u001b[0;34m)\u001b[0m\u001b[0;34m\u001b[0m\u001b[0;34m\u001b[0m\u001b[0m\n\u001b[0m\u001b[1;32m   1302\u001b[0m     \u001b[0mpresent_labels\u001b[0m \u001b[0;34m=\u001b[0m \u001b[0munique_labels\u001b[0m\u001b[0;34m(\u001b[0m\u001b[0my_true\u001b[0m\u001b[0;34m,\u001b[0m \u001b[0my_pred\u001b[0m\u001b[0;34m)\u001b[0m\u001b[0;34m\u001b[0m\u001b[0;34m\u001b[0m\u001b[0m\n\u001b[1;32m   1303\u001b[0m     \u001b[0;32mif\u001b[0m \u001b[0maverage\u001b[0m \u001b[0;34m==\u001b[0m \u001b[0;34m'binary'\u001b[0m\u001b[0;34m:\u001b[0m\u001b[0;34m\u001b[0m\u001b[0;34m\u001b[0m\u001b[0m\n",
      "\u001b[0;32m~/anaconda3/lib/python3.7/site-packages/sklearn/metrics/_classification.py\u001b[0m in \u001b[0;36m_check_targets\u001b[0;34m(y_true, y_pred)\u001b[0m\n\u001b[1;32m     78\u001b[0m     \u001b[0my_pred\u001b[0m \u001b[0;34m:\u001b[0m \u001b[0marray\u001b[0m \u001b[0;32mor\u001b[0m \u001b[0mindicator\u001b[0m \u001b[0mmatrix\u001b[0m\u001b[0;34m\u001b[0m\u001b[0;34m\u001b[0m\u001b[0m\n\u001b[1;32m     79\u001b[0m     \"\"\"\n\u001b[0;32m---> 80\u001b[0;31m     \u001b[0mcheck_consistent_length\u001b[0m\u001b[0;34m(\u001b[0m\u001b[0my_true\u001b[0m\u001b[0;34m,\u001b[0m \u001b[0my_pred\u001b[0m\u001b[0;34m)\u001b[0m\u001b[0;34m\u001b[0m\u001b[0;34m\u001b[0m\u001b[0m\n\u001b[0m\u001b[1;32m     81\u001b[0m     \u001b[0mtype_true\u001b[0m \u001b[0;34m=\u001b[0m \u001b[0mtype_of_target\u001b[0m\u001b[0;34m(\u001b[0m\u001b[0my_true\u001b[0m\u001b[0;34m)\u001b[0m\u001b[0;34m\u001b[0m\u001b[0;34m\u001b[0m\u001b[0m\n\u001b[1;32m     82\u001b[0m     \u001b[0mtype_pred\u001b[0m \u001b[0;34m=\u001b[0m \u001b[0mtype_of_target\u001b[0m\u001b[0;34m(\u001b[0m\u001b[0my_pred\u001b[0m\u001b[0;34m)\u001b[0m\u001b[0;34m\u001b[0m\u001b[0;34m\u001b[0m\u001b[0m\n",
      "\u001b[0;32m~/anaconda3/lib/python3.7/site-packages/sklearn/utils/validation.py\u001b[0m in \u001b[0;36mcheck_consistent_length\u001b[0;34m(*arrays)\u001b[0m\n\u001b[1;32m    210\u001b[0m     \u001b[0;32mif\u001b[0m \u001b[0mlen\u001b[0m\u001b[0;34m(\u001b[0m\u001b[0muniques\u001b[0m\u001b[0;34m)\u001b[0m \u001b[0;34m>\u001b[0m \u001b[0;36m1\u001b[0m\u001b[0;34m:\u001b[0m\u001b[0;34m\u001b[0m\u001b[0;34m\u001b[0m\u001b[0m\n\u001b[1;32m    211\u001b[0m         raise ValueError(\"Found input variables with inconsistent numbers of\"\n\u001b[0;32m--> 212\u001b[0;31m                          \" samples: %r\" % [int(l) for l in lengths])\n\u001b[0m\u001b[1;32m    213\u001b[0m \u001b[0;34m\u001b[0m\u001b[0m\n\u001b[1;32m    214\u001b[0m \u001b[0;34m\u001b[0m\u001b[0m\n",
      "\u001b[0;31mValueError\u001b[0m: Found input variables with inconsistent numbers of samples: [6274, 18821]"
     ]
    }
   ],
   "source": [
    "print_metrics(y_test, training_preds)"
   ]
  },
  {
   "cell_type": "code",
   "execution_count": 183,
   "metadata": {},
   "outputs": [],
   "source": [
    "# Construct a parameter grid for feeding into GridSearch\n",
    "param_grid = {\n",
    "    'learning_rate': [0.1, 0.2],\n",
    "    'max_depth': [6],\n",
    "    'min_child_weight': [1, 2],\n",
    "    'subsample': [0.5, 0.7],\n",
    "    'n_estimators': [100],\n",
    "}"
   ]
  },
  {
   "cell_type": "code",
   "execution_count": 184,
   "metadata": {},
   "outputs": [
    {
     "name": "stdout",
     "output_type": "stream",
     "text": [
      "Grid Search found the following optimal parameters: \n",
      "learning_rate: 0.1\n",
      "max_depth: 6\n",
      "min_child_weight: 2\n",
      "n_estimators: 100\n",
      "subsample: 0.7\n"
     ]
    }
   ],
   "source": [
    "grid_clf = GridSearchCV(XGBclf, param_grid, scoring='accuracy', cv=None, n_jobs=1)\n",
    "grid_clf.fit(X_train, y_train)\n",
    "\n",
    "best_parameters = grid_clf.best_params_\n",
    "\n",
    "print('Grid Search found the following optimal parameters: ')\n",
    "for param_name in sorted(best_parameters.keys()):\n",
    "    print('%s: %r' % (param_name, best_parameters[param_name]))\n",
    "\n",
    "GStraining_preds = grid_clf.predict(X_train)\n",
    "GStest_preds = grid_clf.predict(X_test)\n",
    "training_accuracy = accuracy_score(y_train, GStraining_preds)\n",
    "test_accuracy = accuracy_score(y_test, GStest_preds)"
   ]
  },
  {
   "cell_type": "code",
   "execution_count": 186,
   "metadata": {},
   "outputs": [
    {
     "name": "stdout",
     "output_type": "stream",
     "text": [
      "Training Accuracy:   77.78%\n",
      "Training Precision:   62.84%\n",
      "Training Recall:   6.381%\n",
      "Training F1:   11.59%\n",
      "\n",
      "Training Accuracy:   77.78%\n",
      "Validation accuracy: 77.02%\n"
     ]
    }
   ],
   "source": [
    "# Accuracy of training and test sets\n",
    "GStraining_accuracy = accuracy_score(y_train, GStraining_preds)\n",
    "GStraining_precision = precision_score(y_train, GStraining_preds)\n",
    "GStraining_recall = recall_score(y_train, GStraining_preds)\n",
    "GStraining_f1 = f1_score(y_train, GStraining_preds)\n",
    "\n",
    "print('Training Accuracy:   {:.4}%'.format(GStraining_accuracy * 100))\n",
    "print('Training Precision:   {:.4}%'.format(GStraining_precision * 100))\n",
    "print('Training Recall:   {:.4}%'.format(GStraining_recall * 100))\n",
    "print('Training F1:   {:.4}%'.format(GStraining_f1 * 100))\n",
    "\n",
    "print('')\n",
    "print('Training Accuracy:   {:.4}%'.format(training_accuracy * 100))\n",
    "print('Validation accuracy: {:.4}%'.format(test_accuracy * 100))"
   ]
  },
  {
   "cell_type": "code",
   "execution_count": null,
   "metadata": {},
   "outputs": [],
   "source": []
  }
 ],
 "metadata": {
  "kernelspec": {
   "display_name": "Python 3",
   "language": "python",
   "name": "python3"
  },
  "language_info": {
   "codemirror_mode": {
    "name": "ipython",
    "version": 3
   },
   "file_extension": ".py",
   "mimetype": "text/x-python",
   "name": "python",
   "nbconvert_exporter": "python",
   "pygments_lexer": "ipython3",
   "version": "3.7.6"
  }
 },
 "nbformat": 4,
 "nbformat_minor": 2
}
