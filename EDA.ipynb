{
 "cells": [
  {
   "cell_type": "markdown",
   "metadata": {},
   "source": [
    "# Mod_5_Project"
   ]
  },
  {
   "cell_type": "markdown",
   "metadata": {},
   "source": [
    "## Classify whether a traffic stop will end in an arrest or not"
   ]
  },
  {
   "cell_type": "markdown",
   "metadata": {},
   "source": [
    "Left off at p_race_map"
   ]
  },
  {
   "cell_type": "code",
   "execution_count": 1,
   "metadata": {},
   "outputs": [],
   "source": [
    "import pandas as pd\n",
    "import seaborn as sns\n",
    "import matplotlib.pyplot as plt\n",
    "%matplotlib inline\n",
    "import sklearn"
   ]
  },
  {
   "cell_type": "code",
   "execution_count": 2,
   "metadata": {},
   "outputs": [],
   "source": [
    "# Display all expressions in a cell\n",
    "from IPython.core.interactiveshell import InteractiveShell\n",
    "InteractiveShell.ast_node_interactivity = \"last_expr\""
   ]
  },
  {
   "cell_type": "code",
   "execution_count": 3,
   "metadata": {},
   "outputs": [],
   "source": [
    "df = pd.read_csv('terry-stops.csv')"
   ]
  },
  {
   "cell_type": "code",
   "execution_count": 4,
   "metadata": {},
   "outputs": [],
   "source": [
    "# Adjust jupyter's display limits\n",
    "pd.set_option('display.max_columns', 25)\n",
    "pd.set_option('display.max_rows', 200)"
   ]
  },
  {
   "cell_type": "code",
   "execution_count": 5,
   "metadata": {},
   "outputs": [
    {
     "data": {
      "text/plain": [
       "(26042, 23)"
      ]
     },
     "execution_count": 5,
     "metadata": {},
     "output_type": "execute_result"
    }
   ],
   "source": [
    "df.shape"
   ]
  },
  {
   "cell_type": "code",
   "execution_count": 6,
   "metadata": {},
   "outputs": [
    {
     "name": "stdout",
     "output_type": "stream",
     "text": [
      "<class 'pandas.core.frame.DataFrame'>\n",
      "RangeIndex: 26042 entries, 0 to 26041\n",
      "Data columns (total 23 columns):\n",
      " #   Column                    Non-Null Count  Dtype  \n",
      "---  ------                    --------------  -----  \n",
      " 0   Subject Age Group         26042 non-null  object \n",
      " 1   Subject ID                25150 non-null  float64\n",
      " 2   GO / SC Num               26042 non-null  int64  \n",
      " 3   Terry Stop ID             26042 non-null  int64  \n",
      " 4   Stop Resolution           26042 non-null  object \n",
      " 5   Weapon Type               26042 non-null  object \n",
      " 6   Officer ID                26042 non-null  int64  \n",
      " 7   Officer YOB               26025 non-null  float64\n",
      " 8   Officer Gender            26042 non-null  object \n",
      " 9   Officer Race              26042 non-null  object \n",
      " 10  Subject Perceived Race    26042 non-null  object \n",
      " 11  Subject Perceived Gender  26042 non-null  object \n",
      " 12  Reported Date             26042 non-null  object \n",
      " 13  Reported Time             26042 non-null  object \n",
      " 14  Initial Call Type         16188 non-null  object \n",
      " 15  Final Call Type           16188 non-null  object \n",
      " 16  Call Type                 16188 non-null  object \n",
      " 17  Officer Squad             25635 non-null  object \n",
      " 18  Arrest Flag               26042 non-null  object \n",
      " 19  Frisk Flag                26042 non-null  object \n",
      " 20  Precinct                  16188 non-null  object \n",
      " 21  Sector                    16188 non-null  object \n",
      " 22  Beat                      16188 non-null  object \n",
      "dtypes: float64(2), int64(3), object(18)\n",
      "memory usage: 4.6+ MB\n"
     ]
    }
   ],
   "source": [
    "df.info()"
   ]
  },
  {
   "cell_type": "code",
   "execution_count": 7,
   "metadata": {},
   "outputs": [
    {
     "data": {
      "text/html": [
       "<div>\n",
       "<style scoped>\n",
       "    .dataframe tbody tr th:only-of-type {\n",
       "        vertical-align: middle;\n",
       "    }\n",
       "\n",
       "    .dataframe tbody tr th {\n",
       "        vertical-align: top;\n",
       "    }\n",
       "\n",
       "    .dataframe thead th {\n",
       "        text-align: right;\n",
       "    }\n",
       "</style>\n",
       "<table border=\"1\" class=\"dataframe\">\n",
       "  <thead>\n",
       "    <tr style=\"text-align: right;\">\n",
       "      <th></th>\n",
       "      <th>Subject Age Group</th>\n",
       "      <th>Subject ID</th>\n",
       "      <th>GO / SC Num</th>\n",
       "      <th>Terry Stop ID</th>\n",
       "      <th>Stop Resolution</th>\n",
       "      <th>Weapon Type</th>\n",
       "      <th>Officer ID</th>\n",
       "      <th>Officer YOB</th>\n",
       "      <th>Officer Gender</th>\n",
       "      <th>Officer Race</th>\n",
       "      <th>Subject Perceived Race</th>\n",
       "      <th>Subject Perceived Gender</th>\n",
       "      <th>Reported Date</th>\n",
       "      <th>Reported Time</th>\n",
       "      <th>Initial Call Type</th>\n",
       "      <th>Final Call Type</th>\n",
       "      <th>Call Type</th>\n",
       "      <th>Officer Squad</th>\n",
       "      <th>Arrest Flag</th>\n",
       "      <th>Frisk Flag</th>\n",
       "      <th>Precinct</th>\n",
       "      <th>Sector</th>\n",
       "      <th>Beat</th>\n",
       "    </tr>\n",
       "  </thead>\n",
       "  <tbody>\n",
       "    <tr>\n",
       "      <th>0</th>\n",
       "      <td>36 - 45</td>\n",
       "      <td>NaN</td>\n",
       "      <td>20150000088359</td>\n",
       "      <td>10012</td>\n",
       "      <td>-</td>\n",
       "      <td>None</td>\n",
       "      <td>1735</td>\n",
       "      <td>1977.0</td>\n",
       "      <td>M</td>\n",
       "      <td>White</td>\n",
       "      <td>Black</td>\n",
       "      <td>Male</td>\n",
       "      <td>2015-03-18</td>\n",
       "      <td>09:58:00.0000000</td>\n",
       "      <td>WARRANT - FELONY PICKUP</td>\n",
       "      <td>--WARRANT SERVICES - FELONY</td>\n",
       "      <td>ONVIEW</td>\n",
       "      <td>NaN</td>\n",
       "      <td>N</td>\n",
       "      <td>N</td>\n",
       "      <td>East</td>\n",
       "      <td>E</td>\n",
       "      <td>E2</td>\n",
       "    </tr>\n",
       "    <tr>\n",
       "      <th>1</th>\n",
       "      <td>26 - 35</td>\n",
       "      <td>NaN</td>\n",
       "      <td>20150000087858</td>\n",
       "      <td>10068</td>\n",
       "      <td>GO Report</td>\n",
       "      <td>None</td>\n",
       "      <td>1561</td>\n",
       "      <td>1984.0</td>\n",
       "      <td>M</td>\n",
       "      <td>White</td>\n",
       "      <td>Black</td>\n",
       "      <td>Male</td>\n",
       "      <td>2015-03-17</td>\n",
       "      <td>19:08:00.0000000</td>\n",
       "      <td>THREATS (INCLS IN-PERSON/BY PHONE/IN WRITING)</td>\n",
       "      <td>--DISTURBANCE - OTHER</td>\n",
       "      <td>911</td>\n",
       "      <td>NaN</td>\n",
       "      <td>N</td>\n",
       "      <td>N</td>\n",
       "      <td>East</td>\n",
       "      <td>G</td>\n",
       "      <td>G3</td>\n",
       "    </tr>\n",
       "    <tr>\n",
       "      <th>2</th>\n",
       "      <td>18 - 25</td>\n",
       "      <td>NaN</td>\n",
       "      <td>20150000001461</td>\n",
       "      <td>10103</td>\n",
       "      <td>Street Check</td>\n",
       "      <td>None</td>\n",
       "      <td>1539</td>\n",
       "      <td>1973.0</td>\n",
       "      <td>M</td>\n",
       "      <td>White</td>\n",
       "      <td>American Indian / Alaskan Native</td>\n",
       "      <td>Male</td>\n",
       "      <td>2015-03-19</td>\n",
       "      <td>01:32:00.0000000</td>\n",
       "      <td>NaN</td>\n",
       "      <td>NaN</td>\n",
       "      <td>NaN</td>\n",
       "      <td>NaN</td>\n",
       "      <td>N</td>\n",
       "      <td>N</td>\n",
       "      <td>NaN</td>\n",
       "      <td>NaN</td>\n",
       "      <td>NaN</td>\n",
       "    </tr>\n",
       "    <tr>\n",
       "      <th>3</th>\n",
       "      <td>18 - 25</td>\n",
       "      <td>NaN</td>\n",
       "      <td>20150000001461</td>\n",
       "      <td>10104</td>\n",
       "      <td>Street Check</td>\n",
       "      <td>None</td>\n",
       "      <td>1539</td>\n",
       "      <td>1973.0</td>\n",
       "      <td>M</td>\n",
       "      <td>White</td>\n",
       "      <td>American Indian / Alaskan Native</td>\n",
       "      <td>Female</td>\n",
       "      <td>2015-03-19</td>\n",
       "      <td>01:35:00.0000000</td>\n",
       "      <td>NaN</td>\n",
       "      <td>NaN</td>\n",
       "      <td>NaN</td>\n",
       "      <td>NaN</td>\n",
       "      <td>N</td>\n",
       "      <td>N</td>\n",
       "      <td>NaN</td>\n",
       "      <td>NaN</td>\n",
       "      <td>NaN</td>\n",
       "    </tr>\n",
       "    <tr>\n",
       "      <th>4</th>\n",
       "      <td>26 - 35</td>\n",
       "      <td>NaN</td>\n",
       "      <td>20150000103696</td>\n",
       "      <td>10207</td>\n",
       "      <td>Street Check</td>\n",
       "      <td>None</td>\n",
       "      <td>1539</td>\n",
       "      <td>1973.0</td>\n",
       "      <td>M</td>\n",
       "      <td>White</td>\n",
       "      <td>White</td>\n",
       "      <td>Male</td>\n",
       "      <td>2015-03-30</td>\n",
       "      <td>21:08:00.0000000</td>\n",
       "      <td>PROPERTY - DAMAGE</td>\n",
       "      <td>--PROPERTY DEST (DAMG)</td>\n",
       "      <td>911</td>\n",
       "      <td>NaN</td>\n",
       "      <td>N</td>\n",
       "      <td>N</td>\n",
       "      <td>East</td>\n",
       "      <td>E</td>\n",
       "      <td>E2</td>\n",
       "    </tr>\n",
       "  </tbody>\n",
       "</table>\n",
       "</div>"
      ],
      "text/plain": [
       "  Subject Age Group  Subject ID     GO / SC Num  Terry Stop ID  \\\n",
       "0           36 - 45         NaN  20150000088359          10012   \n",
       "1           26 - 35         NaN  20150000087858          10068   \n",
       "2           18 - 25         NaN  20150000001461          10103   \n",
       "3           18 - 25         NaN  20150000001461          10104   \n",
       "4           26 - 35         NaN  20150000103696          10207   \n",
       "\n",
       "  Stop Resolution Weapon Type  Officer ID  Officer YOB Officer Gender  \\\n",
       "0               -        None        1735       1977.0              M   \n",
       "1       GO Report        None        1561       1984.0              M   \n",
       "2    Street Check        None        1539       1973.0              M   \n",
       "3    Street Check        None        1539       1973.0              M   \n",
       "4    Street Check        None        1539       1973.0              M   \n",
       "\n",
       "  Officer Race            Subject Perceived Race Subject Perceived Gender  \\\n",
       "0        White                             Black                     Male   \n",
       "1        White                             Black                     Male   \n",
       "2        White  American Indian / Alaskan Native                     Male   \n",
       "3        White  American Indian / Alaskan Native                   Female   \n",
       "4        White                             White                     Male   \n",
       "\n",
       "  Reported Date     Reported Time  \\\n",
       "0    2015-03-18  09:58:00.0000000   \n",
       "1    2015-03-17  19:08:00.0000000   \n",
       "2    2015-03-19  01:32:00.0000000   \n",
       "3    2015-03-19  01:35:00.0000000   \n",
       "4    2015-03-30  21:08:00.0000000   \n",
       "\n",
       "                               Initial Call Type              Final Call Type  \\\n",
       "0                        WARRANT - FELONY PICKUP  --WARRANT SERVICES - FELONY   \n",
       "1  THREATS (INCLS IN-PERSON/BY PHONE/IN WRITING)        --DISTURBANCE - OTHER   \n",
       "2                                            NaN                          NaN   \n",
       "3                                            NaN                          NaN   \n",
       "4                              PROPERTY - DAMAGE       --PROPERTY DEST (DAMG)   \n",
       "\n",
       "  Call Type Officer Squad Arrest Flag Frisk Flag Precinct Sector Beat  \n",
       "0    ONVIEW           NaN           N          N     East      E   E2  \n",
       "1       911           NaN           N          N     East      G   G3  \n",
       "2       NaN           NaN           N          N      NaN    NaN  NaN  \n",
       "3       NaN           NaN           N          N      NaN    NaN  NaN  \n",
       "4       911           NaN           N          N     East      E   E2  "
      ]
     },
     "execution_count": 7,
     "metadata": {},
     "output_type": "execute_result"
    }
   ],
   "source": [
    "df.head()"
   ]
  },
  {
   "cell_type": "markdown",
   "metadata": {},
   "source": [
    "## Cleaning"
   ]
  },
  {
   "cell_type": "markdown",
   "metadata": {},
   "source": [
    "#### 1. Subject Age Group"
   ]
  },
  {
   "cell_type": "code",
   "execution_count": 8,
   "metadata": {},
   "outputs": [
    {
     "data": {
      "text/plain": [
       "26 - 35         8473\n",
       "18 - 25         5810\n",
       "36 - 45         5131\n",
       "46 - 55         3244\n",
       "1 - 17          1390\n",
       "56 and Above    1158\n",
       "-                836\n",
       "Name: Subject Age Group, dtype: int64"
      ]
     },
     "execution_count": 8,
     "metadata": {},
     "output_type": "execute_result"
    }
   ],
   "source": [
    "df['Subject Age Group'].value_counts()"
   ]
  },
  {
   "cell_type": "markdown",
   "metadata": {},
   "source": [
    "#### 2. Subject ID (repeat offenders)"
   ]
  },
  {
   "cell_type": "code",
   "execution_count": 9,
   "metadata": {},
   "outputs": [],
   "source": [
    "repeat_offenders = df['Subject ID'].value_counts() > 2\n",
    "medium_offenders = df['Subject ID'].value_counts() > 4\n",
    "career_offenders = df['Subject ID'].value_counts() > 6"
   ]
  },
  {
   "cell_type": "code",
   "execution_count": 10,
   "metadata": {
    "scrolled": true
   },
   "outputs": [
    {
     "data": {
      "text/plain": [
       "False    19738\n",
       "True        84\n",
       "Name: Subject ID, dtype: int64"
      ]
     },
     "execution_count": 10,
     "metadata": {},
     "output_type": "execute_result"
    }
   ],
   "source": [
    "career_offenders.value_counts()\n"
   ]
  },
  {
   "cell_type": "markdown",
   "metadata": {},
   "source": [
    "#### 3. GO / SC Num (identifier for type of stop)"
   ]
  },
  {
   "cell_type": "code",
   "execution_count": 11,
   "metadata": {
    "scrolled": true
   },
   "outputs": [
    {
     "name": "stdout",
     "output_type": "stream",
     "text": [
      "20150000190790    16\n",
      "20160000378750    16\n",
      "20180000134604    14\n",
      "20170000132836    13\n",
      "20160000001326    12\n",
      "                  ..\n",
      "20170000298261     1\n",
      "20170000212255     1\n",
      "20170000000403     1\n",
      "20170000001286     1\n",
      "20170000294189     1\n",
      "Name: GO / SC Num, Length: 19620, dtype: int64\n"
     ]
    }
   ],
   "source": [
    "print(df['GO / SC Num'].value_counts())\n",
    "\n",
    "# With 19,620 unique codes, this column seems like it can be dropped\n",
    "df.drop('GO / SC Num', axis=1, inplace=True)"
   ]
  },
  {
   "cell_type": "markdown",
   "metadata": {},
   "source": [
    "#### 4. Terry Stop ID (unique identifier for each of stop)"
   ]
  },
  {
   "cell_type": "code",
   "execution_count": 12,
   "metadata": {},
   "outputs": [
    {
     "data": {
      "text/plain": [
       "12282    1\n",
       "38232    1\n",
       "21824    1\n",
       "23873    1\n",
       "17730    1\n",
       "        ..\n",
       "37607    1\n",
       "10992    1\n",
       "15090    1\n",
       "13043    1\n",
       "10245    1\n",
       "Name: Terry Stop ID, Length: 26042, dtype: int64"
      ]
     },
     "execution_count": 12,
     "metadata": {},
     "output_type": "execute_result"
    }
   ],
   "source": [
    "df['Terry Stop ID'].value_counts()"
   ]
  },
  {
   "cell_type": "markdown",
   "metadata": {},
   "source": [
    "#### 5. Stop Resolution (final outcome) - target variable"
   ]
  },
  {
   "cell_type": "code",
   "execution_count": 13,
   "metadata": {},
   "outputs": [
    {
     "data": {
      "text/plain": [
       "6"
      ]
     },
     "execution_count": 13,
     "metadata": {},
     "output_type": "execute_result"
    }
   ],
   "source": [
    "df['Stop Resolution'].value_counts()\n",
    "len(df['Stop Resolution'].unique())"
   ]
  },
  {
   "cell_type": "markdown",
   "metadata": {},
   "source": [
    "#### 6. Weapon Type"
   ]
  },
  {
   "cell_type": "code",
   "execution_count": 14,
   "metadata": {},
   "outputs": [
    {
     "data": {
      "text/plain": [
       "12"
      ]
     },
     "execution_count": 14,
     "metadata": {},
     "output_type": "execute_result"
    }
   ],
   "source": [
    "df['Weapon Type'].value_counts()\n",
    "len(df['Weapon Type'].unique())"
   ]
  },
  {
   "cell_type": "code",
   "execution_count": 15,
   "metadata": {},
   "outputs": [],
   "source": [
    "weapon_map = {\n",
    "    'None': 'None',\n",
    "    '-': 'Other',\n",
    "    'Lethal Cutting Instrument':'Lethal Cutting Instrument',\n",
    "    'Handgun': 'Firearm',\n",
    "    'Firearm Other': 'Firearm',\n",
    "    'Firearm (unk type)': 'Firearm',\n",
    "    'Shotgun': 'Firearm',\n",
    "    'Rifle': 'Firearm',\n",
    "    'Club': 'Club, Blackjack, Brass Knuckles',\n",
    "    'Blackjack': 'Club, Blackjack, Brass Knuckles',\n",
    "    'Brass Knuckles': 'Club, Blackjack, Brass Knuckles'\n",
    "}"
   ]
  },
  {
   "cell_type": "code",
   "execution_count": 16,
   "metadata": {},
   "outputs": [],
   "source": [
    "df['Weapon Type'] = df['Weapon Type'].map(weapon_map)"
   ]
  },
  {
   "cell_type": "code",
   "execution_count": 17,
   "metadata": {},
   "outputs": [
    {
     "data": {
      "text/plain": [
       "array(['None', 'Lethal Cutting Instrument', 'Firearm', nan, 'Other',\n",
       "       'Club, Blackjack, Brass Knuckles'], dtype=object)"
      ]
     },
     "execution_count": 17,
     "metadata": {},
     "output_type": "execute_result"
    }
   ],
   "source": [
    "df['Weapon Type'].value_counts()\n",
    "\n",
    "# 34 total \"NaN\" values\n",
    "df['Weapon Type'].isna().sum()\n",
    "df['Weapon Type'].unique()"
   ]
  },
  {
   "cell_type": "markdown",
   "metadata": {},
   "source": [
    "#### 7. Officer ID (unique identifier)"
   ]
  },
  {
   "cell_type": "code",
   "execution_count": 18,
   "metadata": {},
   "outputs": [
    {
     "data": {
      "text/plain": [
       "986"
      ]
     },
     "execution_count": 18,
     "metadata": {},
     "output_type": "execute_result"
    }
   ],
   "source": [
    "df['Officer ID'].value_counts()\n",
    "\n",
    "# 986 reporting officers\n",
    "len(df['Officer ID'].unique())"
   ]
  },
  {
   "cell_type": "markdown",
   "metadata": {},
   "source": [
    "#### 8. Officer YOB"
   ]
  },
  {
   "cell_type": "code",
   "execution_count": 19,
   "metadata": {},
   "outputs": [
    {
     "data": {
      "text/plain": [
       "17"
      ]
     },
     "execution_count": 19,
     "metadata": {},
     "output_type": "execute_result"
    }
   ],
   "source": [
    "df['Officer YOB'].isna().sum()\n",
    "\n",
    "# Does the age of the officer have any effect on the result of the terry stop\n",
    "# df['Officer YOB'].value_counts()\n",
    "\n",
    "# Oldest officer born in 1948 (must drop 5 arrests where YOB==1900)\n",
    "# sorted(df['Officer YOB'])"
   ]
  },
  {
   "cell_type": "markdown",
   "metadata": {},
   "source": [
    "#### 9. Officer Gender"
   ]
  },
  {
   "cell_type": "code",
   "execution_count": 20,
   "metadata": {},
   "outputs": [
    {
     "data": {
      "text/plain": [
       "M    23151\n",
       "F     2886\n",
       "N        5\n",
       "Name: Officer Gender, dtype: int64"
      ]
     },
     "execution_count": 20,
     "metadata": {},
     "output_type": "execute_result"
    }
   ],
   "source": [
    "df['Officer Gender'].value_counts()"
   ]
  },
  {
   "cell_type": "markdown",
   "metadata": {},
   "source": [
    "#### 10. Officer Race"
   ]
  },
  {
   "cell_type": "code",
   "execution_count": 21,
   "metadata": {},
   "outputs": [
    {
     "data": {
      "text/plain": [
       "White                            20399\n",
       "Hispanic or Latino                1229\n",
       "Two or More Races                 1158\n",
       "Black or African American         1077\n",
       "Asian                              956\n",
       "Not Specified                      640\n",
       "Nat Hawaiian/Oth Pac Islander      308\n",
       "American Indian/Alaska Native      253\n",
       "Unknown                             22\n",
       "Name: Officer Race, dtype: int64"
      ]
     },
     "execution_count": 21,
     "metadata": {},
     "output_type": "execute_result"
    }
   ],
   "source": [
    "df['Officer Race'].value_counts()"
   ]
  },
  {
   "cell_type": "code",
   "execution_count": 22,
   "metadata": {},
   "outputs": [],
   "source": [
    "race_map = {\n",
    "    'White': 'Caucasian',\n",
    "    'Hispanic or Latino': 'Hispanic',\n",
    "    'Two or More Races': 'Unknown',\n",
    "    'Black or African American': 'African American',\n",
    "    'Asian': 'Asian',\n",
    "    'Not Specified': 'Unknown',\n",
    "    'Nat Hawaiian/Oth Pac Islander': 'Native Islander',\n",
    "    'American Indian/Alaska Native': 'Native American',\n",
    "    'Unknown': 'Unknown'\n",
    "}"
   ]
  },
  {
   "cell_type": "code",
   "execution_count": 23,
   "metadata": {},
   "outputs": [],
   "source": [
    "df['Officer Race'] = df['Officer Race'].map(race_map)"
   ]
  },
  {
   "cell_type": "markdown",
   "metadata": {},
   "source": [
    "#### 11. Subject Perceived Race "
   ]
  },
  {
   "cell_type": "code",
   "execution_count": 24,
   "metadata": {},
   "outputs": [
    {
     "data": {
      "text/plain": [
       "White                               12837\n",
       "Black                                7999\n",
       "Hispanic                             1225\n",
       "Unknown                              1194\n",
       "American Indian / Alaskan Native      843\n",
       "Asian                                 793\n",
       "Multi-Racial                          669\n",
       "-                                     376\n",
       "Other                                 106\n",
       "Name: Subject Perceived Race, dtype: int64"
      ]
     },
     "execution_count": 24,
     "metadata": {},
     "output_type": "execute_result"
    }
   ],
   "source": [
    "df['Subject Perceived Race'].value_counts()"
   ]
  },
  {
   "cell_type": "code",
   "execution_count": 25,
   "metadata": {},
   "outputs": [],
   "source": [
    "p_race_map = {\n",
    "    'White': 'Caucasian',\n",
    "    'Black': 'African American',\n",
    "    'Hispanic': 'Hispanic',\n",
    "    'Unknown': 'Unknown',\n",
    "    'American Indian / Alaskan Native': 'Native American',\n",
    "    'Asian': 'Asian',\n",
    "    'Multi-Racial': 'Unknown',\n",
    "    '-': 'Unknown',\n",
    "    'Other': 'Unknown'\n",
    "}"
   ]
  },
  {
   "cell_type": "code",
   "execution_count": 26,
   "metadata": {},
   "outputs": [],
   "source": [
    "df['Subject Perceived Race'] = df['Subject Perceived Race'].map(p_race_map)"
   ]
  },
  {
   "cell_type": "code",
   "execution_count": 27,
   "metadata": {},
   "outputs": [
    {
     "data": {
      "text/plain": [
       "Caucasian           12837\n",
       "African American     7999\n",
       "Unknown              2345\n",
       "Hispanic             1225\n",
       "Native American       843\n",
       "Asian                 793\n",
       "Name: Subject Perceived Race, dtype: int64"
      ]
     },
     "execution_count": 27,
     "metadata": {},
     "output_type": "execute_result"
    }
   ],
   "source": [
    "df['Subject Perceived Race'].value_counts()"
   ]
  },
  {
   "cell_type": "markdown",
   "metadata": {},
   "source": [
    "#### 12. Subject Perceived Gender"
   ]
  },
  {
   "cell_type": "code",
   "execution_count": 28,
   "metadata": {},
   "outputs": [
    {
     "data": {
      "text/plain": [
       "Male                   20210\n",
       "Female                  5385\n",
       "Unable to Determine      262\n",
       "-                        185\n",
       "Name: Subject Perceived Gender, dtype: int64"
      ]
     },
     "execution_count": 28,
     "metadata": {},
     "output_type": "execute_result"
    }
   ],
   "source": [
    "df['Subject Perceived Gender'].value_counts()"
   ]
  },
  {
   "cell_type": "code",
   "execution_count": 29,
   "metadata": {},
   "outputs": [],
   "source": [
    "p_gender_map = {\n",
    "    'Male': 'Male',\n",
    "    'Female': 'Female',\n",
    "    'Unable to Determine': 'Unable to Determine',\n",
    "    '-': 'Unable to Determine'\n",
    "}"
   ]
  },
  {
   "cell_type": "code",
   "execution_count": 30,
   "metadata": {},
   "outputs": [],
   "source": [
    "df['Subject Perceived Gender'] = df['Subject Perceived Gender'].map(p_gender_map)"
   ]
  },
  {
   "cell_type": "code",
   "execution_count": 31,
   "metadata": {},
   "outputs": [
    {
     "data": {
      "text/plain": [
       "Male                   20210\n",
       "Female                  5385\n",
       "Unable to Determine      447\n",
       "Name: Subject Perceived Gender, dtype: int64"
      ]
     },
     "execution_count": 31,
     "metadata": {},
     "output_type": "execute_result"
    }
   ],
   "source": [
    "df['Subject Perceived Gender'].value_counts()"
   ]
  },
  {
   "cell_type": "markdown",
   "metadata": {},
   "source": [
    "#### 13. Reported Date (scrape weather forecast)"
   ]
  },
  {
   "cell_type": "code",
   "execution_count": 32,
   "metadata": {},
   "outputs": [],
   "source": [
    "# To use for weather historic weather forecast\n",
    "df['Reported Date'] = pd.to_datetime(df['Reported Date'], errors='coerce', format= '%Y-%m-%d', )"
   ]
  },
  {
   "cell_type": "markdown",
   "metadata": {},
   "source": [
    "#### 14. Time-of-Day"
   ]
  },
  {
   "cell_type": "code",
   "execution_count": 33,
   "metadata": {},
   "outputs": [],
   "source": [
    "# Converted arrest 'Reported Time' into Time-of-Day ('Reported TOD')\n",
    "df['Reported TOD'] = pd.to_datetime(df['Reported Time'], format= '%H:%M:%S.%f').dt.time\n",
    "df.drop('Reported Time', axis=1, inplace=True)"
   ]
  },
  {
   "cell_type": "code",
   "execution_count": 34,
   "metadata": {},
   "outputs": [],
   "source": [
    "# np.logical_or(df['Reported TOD'] < 6:00 or df['Reported TOD'] > 20:00)\n",
    "df['Reported Hour'] = df['Reported TOD'].apply(lambda x: x.hour)"
   ]
  },
  {
   "cell_type": "code",
   "execution_count": 35,
   "metadata": {},
   "outputs": [],
   "source": [
    "early_morning = df['Reported Hour'] < 6\n",
    "evening = df['Reported Hour'] > 18\n",
    "night = df['Reported Hour'] > 20"
   ]
  },
  {
   "cell_type": "code",
   "execution_count": 36,
   "metadata": {
    "scrolled": true
   },
   "outputs": [
    {
     "data": {
      "text/html": [
       "<div>\n",
       "<style scoped>\n",
       "    .dataframe tbody tr th:only-of-type {\n",
       "        vertical-align: middle;\n",
       "    }\n",
       "\n",
       "    .dataframe tbody tr th {\n",
       "        vertical-align: top;\n",
       "    }\n",
       "\n",
       "    .dataframe thead th {\n",
       "        text-align: right;\n",
       "    }\n",
       "</style>\n",
       "<table border=\"1\" class=\"dataframe\">\n",
       "  <thead>\n",
       "    <tr style=\"text-align: right;\">\n",
       "      <th></th>\n",
       "      <th>Subject Age Group</th>\n",
       "      <th>Subject ID</th>\n",
       "      <th>Terry Stop ID</th>\n",
       "      <th>Stop Resolution</th>\n",
       "      <th>Weapon Type</th>\n",
       "      <th>Officer ID</th>\n",
       "      <th>Officer YOB</th>\n",
       "      <th>Officer Gender</th>\n",
       "      <th>Officer Race</th>\n",
       "      <th>Subject Perceived Race</th>\n",
       "      <th>Subject Perceived Gender</th>\n",
       "      <th>Reported Date</th>\n",
       "      <th>Initial Call Type</th>\n",
       "      <th>Final Call Type</th>\n",
       "      <th>Call Type</th>\n",
       "      <th>Officer Squad</th>\n",
       "      <th>Arrest Flag</th>\n",
       "      <th>Frisk Flag</th>\n",
       "      <th>Precinct</th>\n",
       "      <th>Sector</th>\n",
       "      <th>Beat</th>\n",
       "      <th>Reported TOD</th>\n",
       "      <th>Reported Hour</th>\n",
       "    </tr>\n",
       "  </thead>\n",
       "  <tbody>\n",
       "    <tr>\n",
       "      <th>2</th>\n",
       "      <td>18 - 25</td>\n",
       "      <td>NaN</td>\n",
       "      <td>10103</td>\n",
       "      <td>Street Check</td>\n",
       "      <td>None</td>\n",
       "      <td>1539</td>\n",
       "      <td>1973.0</td>\n",
       "      <td>M</td>\n",
       "      <td>Caucasian</td>\n",
       "      <td>Native American</td>\n",
       "      <td>Male</td>\n",
       "      <td>2015-03-19</td>\n",
       "      <td>NaN</td>\n",
       "      <td>NaN</td>\n",
       "      <td>NaN</td>\n",
       "      <td>NaN</td>\n",
       "      <td>N</td>\n",
       "      <td>N</td>\n",
       "      <td>NaN</td>\n",
       "      <td>NaN</td>\n",
       "      <td>NaN</td>\n",
       "      <td>01:32:00</td>\n",
       "      <td>1</td>\n",
       "    </tr>\n",
       "    <tr>\n",
       "      <th>3</th>\n",
       "      <td>18 - 25</td>\n",
       "      <td>NaN</td>\n",
       "      <td>10104</td>\n",
       "      <td>Street Check</td>\n",
       "      <td>None</td>\n",
       "      <td>1539</td>\n",
       "      <td>1973.0</td>\n",
       "      <td>M</td>\n",
       "      <td>Caucasian</td>\n",
       "      <td>Native American</td>\n",
       "      <td>Female</td>\n",
       "      <td>2015-03-19</td>\n",
       "      <td>NaN</td>\n",
       "      <td>NaN</td>\n",
       "      <td>NaN</td>\n",
       "      <td>NaN</td>\n",
       "      <td>N</td>\n",
       "      <td>N</td>\n",
       "      <td>NaN</td>\n",
       "      <td>NaN</td>\n",
       "      <td>NaN</td>\n",
       "      <td>01:35:00</td>\n",
       "      <td>1</td>\n",
       "    </tr>\n",
       "    <tr>\n",
       "      <th>5</th>\n",
       "      <td>-</td>\n",
       "      <td>NaN</td>\n",
       "      <td>10209</td>\n",
       "      <td>Street Check</td>\n",
       "      <td>None</td>\n",
       "      <td>1651</td>\n",
       "      <td>1963.0</td>\n",
       "      <td>M</td>\n",
       "      <td>Caucasian</td>\n",
       "      <td>Unknown</td>\n",
       "      <td>Unable to Determine</td>\n",
       "      <td>2015-04-01</td>\n",
       "      <td>NaN</td>\n",
       "      <td>NaN</td>\n",
       "      <td>NaN</td>\n",
       "      <td>NaN</td>\n",
       "      <td>N</td>\n",
       "      <td>N</td>\n",
       "      <td>NaN</td>\n",
       "      <td>NaN</td>\n",
       "      <td>NaN</td>\n",
       "      <td>04:55:00</td>\n",
       "      <td>4</td>\n",
       "    </tr>\n",
       "    <tr>\n",
       "      <th>6</th>\n",
       "      <td>26 - 35</td>\n",
       "      <td>NaN</td>\n",
       "      <td>10289</td>\n",
       "      <td>Street Check</td>\n",
       "      <td>None</td>\n",
       "      <td>1848</td>\n",
       "      <td>1986.0</td>\n",
       "      <td>M</td>\n",
       "      <td>Unknown</td>\n",
       "      <td>African American</td>\n",
       "      <td>Male</td>\n",
       "      <td>2015-04-10</td>\n",
       "      <td>NaN</td>\n",
       "      <td>NaN</td>\n",
       "      <td>NaN</td>\n",
       "      <td>NaN</td>\n",
       "      <td>N</td>\n",
       "      <td>N</td>\n",
       "      <td>NaN</td>\n",
       "      <td>NaN</td>\n",
       "      <td>NaN</td>\n",
       "      <td>02:33:00</td>\n",
       "      <td>2</td>\n",
       "    </tr>\n",
       "    <tr>\n",
       "      <th>7</th>\n",
       "      <td>26 - 35</td>\n",
       "      <td>NaN</td>\n",
       "      <td>10290</td>\n",
       "      <td>Street Check</td>\n",
       "      <td>None</td>\n",
       "      <td>1848</td>\n",
       "      <td>1986.0</td>\n",
       "      <td>M</td>\n",
       "      <td>Unknown</td>\n",
       "      <td>Caucasian</td>\n",
       "      <td>Female</td>\n",
       "      <td>2015-04-10</td>\n",
       "      <td>NaN</td>\n",
       "      <td>NaN</td>\n",
       "      <td>NaN</td>\n",
       "      <td>NaN</td>\n",
       "      <td>N</td>\n",
       "      <td>N</td>\n",
       "      <td>NaN</td>\n",
       "      <td>NaN</td>\n",
       "      <td>NaN</td>\n",
       "      <td>02:36:00</td>\n",
       "      <td>2</td>\n",
       "    </tr>\n",
       "  </tbody>\n",
       "</table>\n",
       "</div>"
      ],
      "text/plain": [
       "  Subject Age Group  Subject ID  Terry Stop ID Stop Resolution Weapon Type  \\\n",
       "2           18 - 25         NaN          10103    Street Check        None   \n",
       "3           18 - 25         NaN          10104    Street Check        None   \n",
       "5                 -         NaN          10209    Street Check        None   \n",
       "6           26 - 35         NaN          10289    Street Check        None   \n",
       "7           26 - 35         NaN          10290    Street Check        None   \n",
       "\n",
       "   Officer ID  Officer YOB Officer Gender Officer Race Subject Perceived Race  \\\n",
       "2        1539       1973.0              M    Caucasian        Native American   \n",
       "3        1539       1973.0              M    Caucasian        Native American   \n",
       "5        1651       1963.0              M    Caucasian                Unknown   \n",
       "6        1848       1986.0              M      Unknown       African American   \n",
       "7        1848       1986.0              M      Unknown              Caucasian   \n",
       "\n",
       "  Subject Perceived Gender Reported Date Initial Call Type Final Call Type  \\\n",
       "2                     Male    2015-03-19               NaN             NaN   \n",
       "3                   Female    2015-03-19               NaN             NaN   \n",
       "5      Unable to Determine    2015-04-01               NaN             NaN   \n",
       "6                     Male    2015-04-10               NaN             NaN   \n",
       "7                   Female    2015-04-10               NaN             NaN   \n",
       "\n",
       "  Call Type Officer Squad Arrest Flag Frisk Flag Precinct Sector Beat  \\\n",
       "2       NaN           NaN           N          N      NaN    NaN  NaN   \n",
       "3       NaN           NaN           N          N      NaN    NaN  NaN   \n",
       "5       NaN           NaN           N          N      NaN    NaN  NaN   \n",
       "6       NaN           NaN           N          N      NaN    NaN  NaN   \n",
       "7       NaN           NaN           N          N      NaN    NaN  NaN   \n",
       "\n",
       "  Reported TOD  Reported Hour  \n",
       "2     01:32:00              1  \n",
       "3     01:35:00              1  \n",
       "5     04:55:00              4  \n",
       "6     02:33:00              2  \n",
       "7     02:36:00              2  "
      ]
     },
     "execution_count": 36,
     "metadata": {},
     "output_type": "execute_result"
    }
   ],
   "source": [
    "df[early_morning].head()"
   ]
  },
  {
   "cell_type": "markdown",
   "metadata": {},
   "source": [
    "#### 15. Initial Call Type, 16. Final Call Type, 17. Call Type\n",
    "#### Drop all"
   ]
  },
  {
   "cell_type": "code",
   "execution_count": 37,
   "metadata": {},
   "outputs": [],
   "source": [
    "df.drop(['Initial Call Type', 'Final Call Type', 'Call Type'], axis=1, inplace=True)"
   ]
  },
  {
   "cell_type": "markdown",
   "metadata": {},
   "source": [
    "#### 18. Officer Squad, 21. Precinct, 22. Sector, 23. Beat\n",
    "#### All dropped"
   ]
  },
  {
   "cell_type": "code",
   "execution_count": 38,
   "metadata": {},
   "outputs": [],
   "source": [
    "df2 = df.drop(['Officer Squad', 'Precinct', 'Sector', 'Beat'], axis=1)"
   ]
  },
  {
   "cell_type": "markdown",
   "metadata": {},
   "source": [
    "#### 20. Frisk Flag"
   ]
  },
  {
   "cell_type": "code",
   "execution_count": 39,
   "metadata": {},
   "outputs": [
    {
     "data": {
      "text/plain": [
       "N    20102\n",
       "Y     5571\n",
       "-      369\n",
       "Name: Frisk Flag, dtype: int64"
      ]
     },
     "execution_count": 39,
     "metadata": {},
     "output_type": "execute_result"
    }
   ],
   "source": [
    "df2['Frisk Flag'].value_counts()"
   ]
  },
  {
   "cell_type": "code",
   "execution_count": 40,
   "metadata": {},
   "outputs": [
    {
     "data": {
      "text/html": [
       "<div>\n",
       "<style scoped>\n",
       "    .dataframe tbody tr th:only-of-type {\n",
       "        vertical-align: middle;\n",
       "    }\n",
       "\n",
       "    .dataframe tbody tr th {\n",
       "        vertical-align: top;\n",
       "    }\n",
       "\n",
       "    .dataframe thead th {\n",
       "        text-align: right;\n",
       "    }\n",
       "</style>\n",
       "<table border=\"1\" class=\"dataframe\">\n",
       "  <thead>\n",
       "    <tr style=\"text-align: right;\">\n",
       "      <th></th>\n",
       "      <th>Subject Age Group</th>\n",
       "      <th>Subject ID</th>\n",
       "      <th>Terry Stop ID</th>\n",
       "      <th>Stop Resolution</th>\n",
       "      <th>Weapon Type</th>\n",
       "      <th>Officer ID</th>\n",
       "      <th>Officer YOB</th>\n",
       "      <th>Officer Gender</th>\n",
       "      <th>Officer Race</th>\n",
       "      <th>Subject Perceived Race</th>\n",
       "      <th>Subject Perceived Gender</th>\n",
       "      <th>Reported Date</th>\n",
       "      <th>Arrest Flag</th>\n",
       "      <th>Frisk Flag</th>\n",
       "      <th>Reported TOD</th>\n",
       "      <th>Reported Hour</th>\n",
       "    </tr>\n",
       "  </thead>\n",
       "  <tbody>\n",
       "    <tr>\n",
       "      <th>0</th>\n",
       "      <td>36 - 45</td>\n",
       "      <td>NaN</td>\n",
       "      <td>10012</td>\n",
       "      <td>-</td>\n",
       "      <td>None</td>\n",
       "      <td>1735</td>\n",
       "      <td>1977.0</td>\n",
       "      <td>M</td>\n",
       "      <td>Caucasian</td>\n",
       "      <td>African American</td>\n",
       "      <td>Male</td>\n",
       "      <td>2015-03-18</td>\n",
       "      <td>N</td>\n",
       "      <td>N</td>\n",
       "      <td>09:58:00</td>\n",
       "      <td>9</td>\n",
       "    </tr>\n",
       "    <tr>\n",
       "      <th>1</th>\n",
       "      <td>26 - 35</td>\n",
       "      <td>NaN</td>\n",
       "      <td>10068</td>\n",
       "      <td>GO Report</td>\n",
       "      <td>None</td>\n",
       "      <td>1561</td>\n",
       "      <td>1984.0</td>\n",
       "      <td>M</td>\n",
       "      <td>Caucasian</td>\n",
       "      <td>African American</td>\n",
       "      <td>Male</td>\n",
       "      <td>2015-03-17</td>\n",
       "      <td>N</td>\n",
       "      <td>N</td>\n",
       "      <td>19:08:00</td>\n",
       "      <td>19</td>\n",
       "    </tr>\n",
       "    <tr>\n",
       "      <th>2</th>\n",
       "      <td>18 - 25</td>\n",
       "      <td>NaN</td>\n",
       "      <td>10103</td>\n",
       "      <td>Street Check</td>\n",
       "      <td>None</td>\n",
       "      <td>1539</td>\n",
       "      <td>1973.0</td>\n",
       "      <td>M</td>\n",
       "      <td>Caucasian</td>\n",
       "      <td>Native American</td>\n",
       "      <td>Male</td>\n",
       "      <td>2015-03-19</td>\n",
       "      <td>N</td>\n",
       "      <td>N</td>\n",
       "      <td>01:32:00</td>\n",
       "      <td>1</td>\n",
       "    </tr>\n",
       "    <tr>\n",
       "      <th>3</th>\n",
       "      <td>18 - 25</td>\n",
       "      <td>NaN</td>\n",
       "      <td>10104</td>\n",
       "      <td>Street Check</td>\n",
       "      <td>None</td>\n",
       "      <td>1539</td>\n",
       "      <td>1973.0</td>\n",
       "      <td>M</td>\n",
       "      <td>Caucasian</td>\n",
       "      <td>Native American</td>\n",
       "      <td>Female</td>\n",
       "      <td>2015-03-19</td>\n",
       "      <td>N</td>\n",
       "      <td>N</td>\n",
       "      <td>01:35:00</td>\n",
       "      <td>1</td>\n",
       "    </tr>\n",
       "    <tr>\n",
       "      <th>4</th>\n",
       "      <td>26 - 35</td>\n",
       "      <td>NaN</td>\n",
       "      <td>10207</td>\n",
       "      <td>Street Check</td>\n",
       "      <td>None</td>\n",
       "      <td>1539</td>\n",
       "      <td>1973.0</td>\n",
       "      <td>M</td>\n",
       "      <td>Caucasian</td>\n",
       "      <td>Caucasian</td>\n",
       "      <td>Male</td>\n",
       "      <td>2015-03-30</td>\n",
       "      <td>N</td>\n",
       "      <td>N</td>\n",
       "      <td>21:08:00</td>\n",
       "      <td>21</td>\n",
       "    </tr>\n",
       "  </tbody>\n",
       "</table>\n",
       "</div>"
      ],
      "text/plain": [
       "  Subject Age Group  Subject ID  Terry Stop ID Stop Resolution Weapon Type  \\\n",
       "0           36 - 45         NaN          10012               -        None   \n",
       "1           26 - 35         NaN          10068       GO Report        None   \n",
       "2           18 - 25         NaN          10103    Street Check        None   \n",
       "3           18 - 25         NaN          10104    Street Check        None   \n",
       "4           26 - 35         NaN          10207    Street Check        None   \n",
       "\n",
       "   Officer ID  Officer YOB Officer Gender Officer Race Subject Perceived Race  \\\n",
       "0        1735       1977.0              M    Caucasian       African American   \n",
       "1        1561       1984.0              M    Caucasian       African American   \n",
       "2        1539       1973.0              M    Caucasian        Native American   \n",
       "3        1539       1973.0              M    Caucasian        Native American   \n",
       "4        1539       1973.0              M    Caucasian              Caucasian   \n",
       "\n",
       "  Subject Perceived Gender Reported Date Arrest Flag Frisk Flag Reported TOD  \\\n",
       "0                     Male    2015-03-18           N          N     09:58:00   \n",
       "1                     Male    2015-03-17           N          N     19:08:00   \n",
       "2                     Male    2015-03-19           N          N     01:32:00   \n",
       "3                   Female    2015-03-19           N          N     01:35:00   \n",
       "4                     Male    2015-03-30           N          N     21:08:00   \n",
       "\n",
       "   Reported Hour  \n",
       "0              9  \n",
       "1             19  \n",
       "2              1  \n",
       "3              1  \n",
       "4             21  "
      ]
     },
     "execution_count": 40,
     "metadata": {},
     "output_type": "execute_result"
    }
   ],
   "source": [
    "df2.head()"
   ]
  },
  {
   "cell_type": "markdown",
   "metadata": {},
   "source": [
    "## Relabel Column Headers"
   ]
  },
  {
   "cell_type": "code",
   "execution_count": 44,
   "metadata": {},
   "outputs": [
    {
     "data": {
      "text/plain": [
       "Index(['Subject Age Group', 'Subject ID', 'Terry Stop ID', 'Stop Resolution',\n",
       "       'Weapon Type', 'Officer ID', 'Officer YOB', 'Officer Gender',\n",
       "       'Officer Race', 'Subject Perceived Race', 'Subject Perceived Gender',\n",
       "       'Reported Date', 'Arrest Flag', 'Frisk Flag', 'Reported TOD',\n",
       "       'Reported Hour'],\n",
       "      dtype='object')"
      ]
     },
     "execution_count": 44,
     "metadata": {},
     "output_type": "execute_result"
    }
   ],
   "source": [
    "df2.columns"
   ]
  },
  {
   "cell_type": "code",
   "execution_count": 45,
   "metadata": {},
   "outputs": [],
   "source": [
    "columns_nospace = ['Subject_Age_Group', 'Subject_ID', 'Terry_Stop_ID', 'Stop_Resolution',\n",
    "       'Weapon_Type', 'Officer_ID', 'Officer_YOB', 'Officer_Gender',\n",
    "       'Officer_Race', 'Subject_Perceived_Race', 'Subject_Perceived_Gender',\n",
    "       'Reported_Date', 'Arrest_Flag', 'Frisk_Flag', 'Reported_TOD',\n",
    "       'Reported_Hour']"
   ]
  },
  {
   "cell_type": "code",
   "execution_count": 47,
   "metadata": {},
   "outputs": [],
   "source": [
    "df2.columns = columns_nospace"
   ]
  },
  {
   "cell_type": "code",
   "execution_count": 48,
   "metadata": {},
   "outputs": [
    {
     "data": {
      "text/html": [
       "<div>\n",
       "<style scoped>\n",
       "    .dataframe tbody tr th:only-of-type {\n",
       "        vertical-align: middle;\n",
       "    }\n",
       "\n",
       "    .dataframe tbody tr th {\n",
       "        vertical-align: top;\n",
       "    }\n",
       "\n",
       "    .dataframe thead th {\n",
       "        text-align: right;\n",
       "    }\n",
       "</style>\n",
       "<table border=\"1\" class=\"dataframe\">\n",
       "  <thead>\n",
       "    <tr style=\"text-align: right;\">\n",
       "      <th></th>\n",
       "      <th>Subject_Age_Group</th>\n",
       "      <th>Subject_ID</th>\n",
       "      <th>Terry_Stop_ID</th>\n",
       "      <th>Stop_Resolution</th>\n",
       "      <th>Weapon_Type</th>\n",
       "      <th>Officer_ID</th>\n",
       "      <th>Officer_YOB</th>\n",
       "      <th>Officer_Gender</th>\n",
       "      <th>Officer_Race</th>\n",
       "      <th>Subject_Perceived_Race</th>\n",
       "      <th>Subject_Perceived_Gender</th>\n",
       "      <th>Reported_Date</th>\n",
       "      <th>Arrest_Flag</th>\n",
       "      <th>Frisk_Flag</th>\n",
       "      <th>Reported_TOD</th>\n",
       "      <th>Reported_Hour</th>\n",
       "    </tr>\n",
       "  </thead>\n",
       "  <tbody>\n",
       "    <tr>\n",
       "      <th>0</th>\n",
       "      <td>36 - 45</td>\n",
       "      <td>NaN</td>\n",
       "      <td>10012</td>\n",
       "      <td>-</td>\n",
       "      <td>None</td>\n",
       "      <td>1735</td>\n",
       "      <td>1977.0</td>\n",
       "      <td>M</td>\n",
       "      <td>Caucasian</td>\n",
       "      <td>African American</td>\n",
       "      <td>Male</td>\n",
       "      <td>2015-03-18</td>\n",
       "      <td>N</td>\n",
       "      <td>N</td>\n",
       "      <td>09:58:00</td>\n",
       "      <td>9</td>\n",
       "    </tr>\n",
       "    <tr>\n",
       "      <th>1</th>\n",
       "      <td>26 - 35</td>\n",
       "      <td>NaN</td>\n",
       "      <td>10068</td>\n",
       "      <td>GO Report</td>\n",
       "      <td>None</td>\n",
       "      <td>1561</td>\n",
       "      <td>1984.0</td>\n",
       "      <td>M</td>\n",
       "      <td>Caucasian</td>\n",
       "      <td>African American</td>\n",
       "      <td>Male</td>\n",
       "      <td>2015-03-17</td>\n",
       "      <td>N</td>\n",
       "      <td>N</td>\n",
       "      <td>19:08:00</td>\n",
       "      <td>19</td>\n",
       "    </tr>\n",
       "    <tr>\n",
       "      <th>2</th>\n",
       "      <td>18 - 25</td>\n",
       "      <td>NaN</td>\n",
       "      <td>10103</td>\n",
       "      <td>Street Check</td>\n",
       "      <td>None</td>\n",
       "      <td>1539</td>\n",
       "      <td>1973.0</td>\n",
       "      <td>M</td>\n",
       "      <td>Caucasian</td>\n",
       "      <td>Native American</td>\n",
       "      <td>Male</td>\n",
       "      <td>2015-03-19</td>\n",
       "      <td>N</td>\n",
       "      <td>N</td>\n",
       "      <td>01:32:00</td>\n",
       "      <td>1</td>\n",
       "    </tr>\n",
       "    <tr>\n",
       "      <th>3</th>\n",
       "      <td>18 - 25</td>\n",
       "      <td>NaN</td>\n",
       "      <td>10104</td>\n",
       "      <td>Street Check</td>\n",
       "      <td>None</td>\n",
       "      <td>1539</td>\n",
       "      <td>1973.0</td>\n",
       "      <td>M</td>\n",
       "      <td>Caucasian</td>\n",
       "      <td>Native American</td>\n",
       "      <td>Female</td>\n",
       "      <td>2015-03-19</td>\n",
       "      <td>N</td>\n",
       "      <td>N</td>\n",
       "      <td>01:35:00</td>\n",
       "      <td>1</td>\n",
       "    </tr>\n",
       "    <tr>\n",
       "      <th>4</th>\n",
       "      <td>26 - 35</td>\n",
       "      <td>NaN</td>\n",
       "      <td>10207</td>\n",
       "      <td>Street Check</td>\n",
       "      <td>None</td>\n",
       "      <td>1539</td>\n",
       "      <td>1973.0</td>\n",
       "      <td>M</td>\n",
       "      <td>Caucasian</td>\n",
       "      <td>Caucasian</td>\n",
       "      <td>Male</td>\n",
       "      <td>2015-03-30</td>\n",
       "      <td>N</td>\n",
       "      <td>N</td>\n",
       "      <td>21:08:00</td>\n",
       "      <td>21</td>\n",
       "    </tr>\n",
       "  </tbody>\n",
       "</table>\n",
       "</div>"
      ],
      "text/plain": [
       "  Subject_Age_Group  Subject_ID  Terry_Stop_ID Stop_Resolution Weapon_Type  \\\n",
       "0           36 - 45         NaN          10012               -        None   \n",
       "1           26 - 35         NaN          10068       GO Report        None   \n",
       "2           18 - 25         NaN          10103    Street Check        None   \n",
       "3           18 - 25         NaN          10104    Street Check        None   \n",
       "4           26 - 35         NaN          10207    Street Check        None   \n",
       "\n",
       "   Officer_ID  Officer_YOB Officer_Gender Officer_Race Subject_Perceived_Race  \\\n",
       "0        1735       1977.0              M    Caucasian       African American   \n",
       "1        1561       1984.0              M    Caucasian       African American   \n",
       "2        1539       1973.0              M    Caucasian        Native American   \n",
       "3        1539       1973.0              M    Caucasian        Native American   \n",
       "4        1539       1973.0              M    Caucasian              Caucasian   \n",
       "\n",
       "  Subject_Perceived_Gender Reported_Date Arrest_Flag Frisk_Flag Reported_TOD  \\\n",
       "0                     Male    2015-03-18           N          N     09:58:00   \n",
       "1                     Male    2015-03-17           N          N     19:08:00   \n",
       "2                     Male    2015-03-19           N          N     01:32:00   \n",
       "3                   Female    2015-03-19           N          N     01:35:00   \n",
       "4                     Male    2015-03-30           N          N     21:08:00   \n",
       "\n",
       "   Reported_Hour  \n",
       "0              9  \n",
       "1             19  \n",
       "2              1  \n",
       "3              1  \n",
       "4             21  "
      ]
     },
     "execution_count": 48,
     "metadata": {},
     "output_type": "execute_result"
    }
   ],
   "source": [
    "df2.head()"
   ]
  },
  {
   "cell_type": "markdown",
   "metadata": {},
   "source": [
    "## Save to .csv for importing to other notebooks"
   ]
  },
  {
   "cell_type": "code",
   "execution_count": 49,
   "metadata": {},
   "outputs": [],
   "source": [
    "df2.to_csv('terry-stops-cleaned')"
   ]
  },
  {
   "cell_type": "code",
   "execution_count": null,
   "metadata": {},
   "outputs": [],
   "source": []
  }
 ],
 "metadata": {
  "kernelspec": {
   "display_name": "Python 3",
   "language": "python",
   "name": "python3"
  },
  "language_info": {
   "codemirror_mode": {
    "name": "ipython",
    "version": 3
   },
   "file_extension": ".py",
   "mimetype": "text/x-python",
   "name": "python",
   "nbconvert_exporter": "python",
   "pygments_lexer": "ipython3",
   "version": "3.7.6"
  }
 },
 "nbformat": 4,
 "nbformat_minor": 2
}
